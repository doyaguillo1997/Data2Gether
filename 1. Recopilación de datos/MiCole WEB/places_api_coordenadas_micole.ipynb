{
 "cells": [
  {
   "cell_type": "markdown",
   "source": [
    "# Carga datos places desde el bucket de AWS"
   ],
   "metadata": {
    "id": "1z8tf7PDKxTC"
   }
  },
  {
   "cell_type": "code",
   "execution_count": 1,
   "source": [
    "\"\"\"   Librerías   \"\"\"\r\n",
    "import pandas as pd # Manipulación y EDA\r\n",
    "import matplotlib.pyplot as plt # Gráficos\r\n",
    "import seaborn as sns # Gráficos\r\n",
    "from dataAccess import aws_df_from_S3_csv, aws_subir_archivo_s3 # AWS"
   ],
   "outputs": [],
   "metadata": {
    "id": "fi7Rwqr9q5ao"
   }
  },
  {
   "cell_type": "code",
   "execution_count": 2,
   "source": [
    "dataset = awsFunctions.aws_df_from_S3_csv(\"Biel/colegios_madrid.csv\")\r\n",
    "dataset = dataset.drop(['Unnamed: 0'], axis = 1)\r\n",
    "dataset.head()"
   ],
   "outputs": [
    {
     "output_type": "execute_result",
     "data": {
      "text/html": [
       "<div>\n",
       "<style scoped>\n",
       "    .dataframe tbody tr th:only-of-type {\n",
       "        vertical-align: middle;\n",
       "    }\n",
       "\n",
       "    .dataframe tbody tr th {\n",
       "        vertical-align: top;\n",
       "    }\n",
       "\n",
       "    .dataframe thead th {\n",
       "        text-align: right;\n",
       "    }\n",
       "</style>\n",
       "<table border=\"1\" class=\"dataframe\">\n",
       "  <thead>\n",
       "    <tr style=\"text-align: right;\">\n",
       "      <th></th>\n",
       "      <th>name</th>\n",
       "      <th>address</th>\n",
       "      <th>price</th>\n",
       "      <th>review</th>\n",
       "      <th>description</th>\n",
       "      <th>type</th>\n",
       "    </tr>\n",
       "  </thead>\n",
       "  <tbody>\n",
       "    <tr>\n",
       "      <th>0</th>\n",
       "      <td>Virgen Del Cerro</td>\n",
       "      <td>Calle Mohernando 1, 28038, Madrid, Madrid</td>\n",
       "      <td>Menos de 100€/mes</td>\n",
       "      <td>4.3 estrellas</td>\n",
       "      <td>Colegio Público de Educación Infantil y Primaria</td>\n",
       "      <td>Publico</td>\n",
       "    </tr>\n",
       "    <tr>\n",
       "      <th>1</th>\n",
       "      <td>Miguel De Cervantes</td>\n",
       "      <td>Avenida Villaviciosa s/n, 28922, Alcorcón, Madrid</td>\n",
       "      <td>NaN</td>\n",
       "      <td>4.3 estrellas</td>\n",
       "      <td>Colegio Público de Educación Infantil, Primari...</td>\n",
       "      <td>Publico</td>\n",
       "    </tr>\n",
       "    <tr>\n",
       "      <th>2</th>\n",
       "      <td>República Del Paraguay</td>\n",
       "      <td>Calle Manresa 60, 28034, Madrid, Madrid</td>\n",
       "      <td>Menos de 100€/mes</td>\n",
       "      <td>4.7 estrellas</td>\n",
       "      <td>Colegio Público de Educación Infantil y Primaria</td>\n",
       "      <td>Publico</td>\n",
       "    </tr>\n",
       "    <tr>\n",
       "      <th>3</th>\n",
       "      <td>San José De Valderas</td>\n",
       "      <td>Avenida de los Derechos Humanos 6, 28924, Alco...</td>\n",
       "      <td>Menos de 100€/mes</td>\n",
       "      <td>4.1 estrellas</td>\n",
       "      <td>Colegio Público de Educación Infantil y Primaria</td>\n",
       "      <td>Publico</td>\n",
       "    </tr>\n",
       "    <tr>\n",
       "      <th>4</th>\n",
       "      <td>Filosofo Séneca</td>\n",
       "      <td>Calle Santa Adela 21, 28033, Madrid, Madrid</td>\n",
       "      <td>Menos de 100€/mes</td>\n",
       "      <td>4.1 estrellas</td>\n",
       "      <td>Colegio Público de Educación Infantil y Primaria</td>\n",
       "      <td>Publico</td>\n",
       "    </tr>\n",
       "  </tbody>\n",
       "</table>\n",
       "</div>"
      ],
      "text/plain": [
       "                     name                                            address  \\\n",
       "0        Virgen Del Cerro          Calle Mohernando 1, 28038, Madrid, Madrid   \n",
       "1     Miguel De Cervantes  Avenida Villaviciosa s/n, 28922, Alcorcón, Madrid   \n",
       "2  República Del Paraguay            Calle Manresa 60, 28034, Madrid, Madrid   \n",
       "3    San José De Valderas  Avenida de los Derechos Humanos 6, 28924, Alco...   \n",
       "4         Filosofo Séneca        Calle Santa Adela 21, 28033, Madrid, Madrid   \n",
       "\n",
       "               price         review  \\\n",
       "0  Menos de 100€/mes  4.3 estrellas   \n",
       "1                NaN  4.3 estrellas   \n",
       "2  Menos de 100€/mes  4.7 estrellas   \n",
       "3  Menos de 100€/mes  4.1 estrellas   \n",
       "4  Menos de 100€/mes  4.1 estrellas   \n",
       "\n",
       "                                         description     type  \n",
       "0   Colegio Público de Educación Infantil y Primaria  Publico  \n",
       "1  Colegio Público de Educación Infantil, Primari...  Publico  \n",
       "2   Colegio Público de Educación Infantil y Primaria  Publico  \n",
       "3   Colegio Público de Educación Infantil y Primaria  Publico  \n",
       "4   Colegio Público de Educación Infantil y Primaria  Publico  "
      ]
     },
     "metadata": {},
     "execution_count": 2
    }
   ],
   "metadata": {
    "tags": []
   }
  },
  {
   "cell_type": "code",
   "execution_count": 3,
   "source": [
    "# Número de registros que contiene el dataset\r\n",
    "print(\"El dataset contiene un total de {} establecimientos.\\n\".format(len(dataset)))"
   ],
   "outputs": [
    {
     "output_type": "stream",
     "name": "stdout",
     "text": [
      "El dataset contiene un total de 1786 establecimientos.\n",
      "\n"
     ]
    }
   ],
   "metadata": {}
  },
  {
   "cell_type": "code",
   "execution_count": 4,
   "source": [
    "# Duplicados  \r\n",
    "print(dataset.duplicated().sum())\r\n",
    "# Nulos\r\n",
    "print(dataset.isnull().sum())"
   ],
   "outputs": [
    {
     "output_type": "stream",
     "name": "stdout",
     "text": [
      "0\n",
      "name           0\n",
      "address        0\n",
      "price          2\n",
      "review         0\n",
      "description    0\n",
      "type           0\n",
      "dtype: int64\n"
     ]
    }
   ],
   "metadata": {}
  },
  {
   "cell_type": "code",
   "execution_count": 10,
   "source": [
    "df_clean = df_clean.reset_index().rename(columns={\"index\": \"_id\"})\r\n",
    "df_clean.head()"
   ],
   "outputs": [
    {
     "output_type": "execute_result",
     "data": {
      "text/html": [
       "<div>\n",
       "<style scoped>\n",
       "    .dataframe tbody tr th:only-of-type {\n",
       "        vertical-align: middle;\n",
       "    }\n",
       "\n",
       "    .dataframe tbody tr th {\n",
       "        vertical-align: top;\n",
       "    }\n",
       "\n",
       "    .dataframe thead th {\n",
       "        text-align: right;\n",
       "    }\n",
       "</style>\n",
       "<table border=\"1\" class=\"dataframe\">\n",
       "  <thead>\n",
       "    <tr style=\"text-align: right;\">\n",
       "      <th></th>\n",
       "      <th>_id</th>\n",
       "      <th>name</th>\n",
       "      <th>address</th>\n",
       "      <th>price</th>\n",
       "      <th>review</th>\n",
       "      <th>description</th>\n",
       "      <th>type</th>\n",
       "    </tr>\n",
       "  </thead>\n",
       "  <tbody>\n",
       "    <tr>\n",
       "      <th>0</th>\n",
       "      <td>0</td>\n",
       "      <td>Virgen Del Cerro</td>\n",
       "      <td>Calle Mohernando 1, 28038, Madrid, Madrid</td>\n",
       "      <td>Menos de 100€/mes</td>\n",
       "      <td>4.3 estrellas</td>\n",
       "      <td>Colegio Público de Educación Infantil y Primaria</td>\n",
       "      <td>Publico</td>\n",
       "    </tr>\n",
       "    <tr>\n",
       "      <th>1</th>\n",
       "      <td>1</td>\n",
       "      <td>República Del Paraguay</td>\n",
       "      <td>Calle Manresa 60, 28034, Madrid, Madrid</td>\n",
       "      <td>Menos de 100€/mes</td>\n",
       "      <td>4.7 estrellas</td>\n",
       "      <td>Colegio Público de Educación Infantil y Primaria</td>\n",
       "      <td>Publico</td>\n",
       "    </tr>\n",
       "    <tr>\n",
       "      <th>2</th>\n",
       "      <td>2</td>\n",
       "      <td>San José De Valderas</td>\n",
       "      <td>Avenida de los Derechos Humanos 6, 28924, Alco...</td>\n",
       "      <td>Menos de 100€/mes</td>\n",
       "      <td>4.1 estrellas</td>\n",
       "      <td>Colegio Público de Educación Infantil y Primaria</td>\n",
       "      <td>Publico</td>\n",
       "    </tr>\n",
       "    <tr>\n",
       "      <th>3</th>\n",
       "      <td>3</td>\n",
       "      <td>Filosofo Séneca</td>\n",
       "      <td>Calle Santa Adela 21, 28033, Madrid, Madrid</td>\n",
       "      <td>Menos de 100€/mes</td>\n",
       "      <td>4.1 estrellas</td>\n",
       "      <td>Colegio Público de Educación Infantil y Primaria</td>\n",
       "      <td>Publico</td>\n",
       "    </tr>\n",
       "    <tr>\n",
       "      <th>4</th>\n",
       "      <td>4</td>\n",
       "      <td>Beatriz Galindo</td>\n",
       "      <td>Calle de Goya 10, 28001, Madrid, Madrid</td>\n",
       "      <td>Menos de 100€/mes</td>\n",
       "      <td>3.5 estrellas</td>\n",
       "      <td>Instituto Público de Educación Secundaria, Bac...</td>\n",
       "      <td>Publico</td>\n",
       "    </tr>\n",
       "  </tbody>\n",
       "</table>\n",
       "</div>"
      ],
      "text/plain": [
       "   _id                    name  \\\n",
       "0    0        Virgen Del Cerro   \n",
       "1    1  República Del Paraguay   \n",
       "2    2    San José De Valderas   \n",
       "3    3         Filosofo Séneca   \n",
       "4    4         Beatriz Galindo   \n",
       "\n",
       "                                             address              price  \\\n",
       "0          Calle Mohernando 1, 28038, Madrid, Madrid  Menos de 100€/mes   \n",
       "1            Calle Manresa 60, 28034, Madrid, Madrid  Menos de 100€/mes   \n",
       "2  Avenida de los Derechos Humanos 6, 28924, Alco...  Menos de 100€/mes   \n",
       "3        Calle Santa Adela 21, 28033, Madrid, Madrid  Menos de 100€/mes   \n",
       "4            Calle de Goya 10, 28001, Madrid, Madrid  Menos de 100€/mes   \n",
       "\n",
       "          review                                        description     type  \n",
       "0  4.3 estrellas   Colegio Público de Educación Infantil y Primaria  Publico  \n",
       "1  4.7 estrellas   Colegio Público de Educación Infantil y Primaria  Publico  \n",
       "2  4.1 estrellas   Colegio Público de Educación Infantil y Primaria  Publico  \n",
       "3  4.1 estrellas   Colegio Público de Educación Infantil y Primaria  Publico  \n",
       "4  3.5 estrellas  Instituto Público de Educación Secundaria, Bac...  Publico  "
      ]
     },
     "metadata": {},
     "execution_count": 10
    }
   ],
   "metadata": {}
  },
  {
   "cell_type": "markdown",
   "source": [
    "## Duplicados por Name, Address, Price\n",
    "\n",
    "Se mantendría el registro con la descripción más larga, aporta más información. Como no se va a utilizar la descripción para hacer feature engineering, borramos  duplicados alegremente."
   ],
   "metadata": {}
  },
  {
   "cell_type": "code",
   "execution_count": 12,
   "source": [
    "df_clean = df_clean.drop_duplicates(subset=[\"name\",\"address\",\"price\"])"
   ],
   "outputs": [],
   "metadata": {}
  },
  {
   "cell_type": "code",
   "execution_count": 13,
   "source": [
    "# Número de registros que contiene el dataset\r\n",
    "print(\"El dataset contiene un total de {} establecimientos.\\n\".format(len(dataset)))"
   ],
   "outputs": [
    {
     "output_type": "stream",
     "name": "stdout",
     "text": [
      "El dataset contiene un total de 1786 establecimientos.\n",
      "\n"
     ]
    }
   ],
   "metadata": {}
  },
  {
   "cell_type": "markdown",
   "source": [
    "## Google Maps API"
   ],
   "metadata": {}
  },
  {
   "cell_type": "markdown",
   "source": [
    "Se asocian las coordenadas de cada colegio mediante Places API."
   ],
   "metadata": {}
  },
  {
   "cell_type": "code",
   "execution_count": 15,
   "source": [
    "import requests as rq\r\n",
    "import json\r\n",
    "from types import SimpleNamespace\r\n",
    "import time"
   ],
   "outputs": [],
   "metadata": {}
  },
  {
   "cell_type": "code",
   "execution_count": 53,
   "source": [
    "def text_search(key,address):\r\n",
    "    response = rq.get(url=\"https://maps.googleapis.com/maps/api/place/textsearch/json\", \r\n",
    "                  params={\r\n",
    "                      \"query\": address,\r\n",
    "                      \"key\": key,\r\n",
    "                      })\r\n",
    "    return json.loads(response.text, object_hook=lambda d: SimpleNamespace(**d))\r\n",
    "\r\n",
    "def peticion_individual(key,address):\r\n",
    "    time.sleep(3)\r\n",
    "    response = text_search(key,address)\r\n",
    "    time.sleep(3)\r\n",
    "    element = response.results[0]\r\n",
    "    result = str(element.geometry.location.lat)+\",\"+str(element.geometry.location.lng)\r\n",
    "    return result"
   ],
   "outputs": [],
   "metadata": {}
  },
  {
   "cell_type": "code",
   "execution_count": 17,
   "source": [
    "# Peticiones\r\n",
    "KEY = \"\" # Biel\r\n",
    "KEY = \"\" # Arnau\r\n",
    "df_clean[\"query\"] = \"school \"+df_clean[\"name\"]+\", \"+df_clean[\"address\"]"
   ],
   "outputs": [
    {
     "output_type": "stream",
     "name": "stderr",
     "text": [
      "C:\\Users\\arni_\\anaconda3\\lib\\site-packages\\ipykernel_launcher.py:4: SettingWithCopyWarning: \n",
      "A value is trying to be set on a copy of a slice from a DataFrame.\n",
      "Try using .loc[row_indexer,col_indexer] = value instead\n",
      "\n",
      "See the caveats in the documentation: https://pandas.pydata.org/pandas-docs/stable/user_guide/indexing.html#returning-a-view-versus-a-copy\n",
      "  after removing the cwd from sys.path.\n"
     ]
    }
   ],
   "metadata": {}
  },
  {
   "cell_type": "code",
   "execution_count": 19,
   "source": [
    "# Primer intento\r\n",
    "coord = dict()\r\n",
    "id_error = list()\r\n",
    "\r\n",
    "for elem in df_clean._id:\r\n",
    "    try:\r\n",
    "        coord[elem] = peticion_individual(KEY,df_clean['query'][elem])\r\n",
    "    except:\r\n",
    "        id_error.append(elem)"
   ],
   "outputs": [],
   "metadata": {}
  },
  {
   "cell_type": "code",
   "execution_count": 20,
   "source": [
    "print(id_error)"
   ],
   "outputs": [
    {
     "output_type": "stream",
     "name": "stdout",
     "text": [
      "[7, 8, 9, 10, 11, 12, 13, 21, 22, 23, 24, 25, 26, 34, 35, 36, 37, 38, 39, 48, 49, 50, 51, 52, 53, 62, 63, 64, 65, 66, 67, 75, 76, 77, 78, 79, 80, 88, 89, 90, 91, 92, 93, 94, 102, 103, 104, 105, 106, 107, 109, 117, 118, 119, 120, 121, 129, 130, 131, 132, 133, 134, 135, 144, 145, 146, 147, 148, 149, 157, 158, 159, 160, 161, 162, 170, 171, 172, 174, 175, 176, 184, 185, 186, 187, 188, 189, 190, 198, 199, 200, 201, 202, 203, 211, 212, 213, 214, 215, 216, 219, 226, 227, 228, 229, 230, 231, 232, 240, 241, 242, 243, 244, 252, 253, 254, 255, 256, 257, 265, 266, 267, 268, 269, 270, 278, 279, 280, 281, 282, 283, 291, 292, 293, 294, 295, 296, 297, 305, 306, 307, 308, 309, 310, 312, 320, 321, 322, 323, 324, 325, 326, 334, 336, 337, 338, 339, 340, 348, 349, 350, 351, 352, 353, 354, 362, 363, 364, 365, 366, 367, 375, 376, 377, 378, 379, 380, 388, 389, 390, 391, 392, 393, 394, 395, 403, 404, 405, 406, 407, 415, 416, 417, 418, 419, 420, 421, 422, 430, 431, 432, 433, 434, 435, 437, 441, 444, 445, 446, 447, 448, 449, 457, 458, 459, 460, 461, 462, 470, 471, 472, 473, 474, 475, 483, 484, 485, 486, 487, 488, 489, 497, 498, 499, 500, 501, 502, 503, 511, 512, 513, 514, 515, 516, 524, 525, 526, 527, 528, 529, 530, 538, 539, 540, 541, 542, 543, 544, 552, 553, 554, 555, 556, 557, 563, 566, 567, 568, 569, 570, 571, 579, 580, 581, 582, 583, 584, 589, 592, 593, 594, 595, 596, 597, 598, 606, 607, 608, 609, 610, 611, 619, 620, 621, 622, 623, 624, 625, 633, 634, 635, 636, 637, 638, 646, 647, 648, 649, 650, 651, 652, 655, 661, 662, 663, 664, 665, 666, 674, 675, 676, 677, 678, 679, 687, 688, 689, 690, 691, 692, 693, 701, 702, 703, 704, 705, 706, 714, 715, 716, 717, 718, 719, 720, 728, 729, 730, 731, 732, 733, 741, 742, 743, 744, 745, 746, 754, 755, 756, 757, 758, 759, 760, 768, 769, 770, 771, 772, 773, 774, 782, 783, 784, 785, 786, 787, 788, 796, 797, 798, 799, 800, 801, 802, 803, 811, 812, 813, 814, 815, 816, 824, 825, 826, 827, 828, 829, 837, 838, 839, 840, 841, 842, 850, 851, 852, 853, 854, 855, 863, 864, 865, 866, 867, 868, 869, 877, 878, 879, 880, 881, 882, 890, 891, 892, 893, 894, 895, 896, 904, 905, 906, 907, 908, 909, 917, 918, 919, 920, 921, 922, 923, 924, 932, 933, 934, 935, 936, 944, 945, 946, 947, 948, 949, 950, 958, 959, 960, 961, 962, 963, 964, 972, 973, 974, 975, 976, 977, 985, 986, 987, 988, 989, 990, 998, 999, 1000, 1001, 1002, 1003, 1004, 1012, 1013, 1014, 1015, 1016, 1017, 1025, 1026, 1027, 1028, 1029, 1030, 1031, 1039, 1040, 1041, 1042, 1043, 1044, 1052, 1053, 1054, 1055, 1056, 1057, 1065, 1066, 1067, 1068, 1069, 1070, 1071, 1079, 1080, 1081, 1082, 1083, 1084, 1092, 1093, 1094, 1095, 1096, 1097, 1098, 1106, 1107, 1108, 1109, 1110, 1111, 1119, 1120, 1121, 1122, 1123, 1124, 1125, 1134, 1135, 1136, 1137, 1138, 1139, 1141, 1148, 1149, 1150, 1151, 1152, 1153, 1154, 1162, 1163, 1164, 1165, 1166, 1174, 1175, 1176, 1177, 1178, 1179, 1187, 1188, 1189, 1190, 1191, 1192, 1193, 1201, 1202, 1203, 1204, 1205, 1206, 1215, 1216, 1217, 1218, 1219, 1220, 1221, 1222, 1230, 1231, 1232, 1233, 1234, 1241, 1242, 1243, 1244, 1245, 1246, 1247, 1249, 1256, 1257, 1258, 1259, 1260, 1261, 1269, 1270, 1271, 1272, 1273, 1274, 1275, 1283, 1284, 1285, 1286, 1287, 1288, 1296, 1297, 1298, 1299, 1300, 1301, 1306, 1310, 1311, 1312, 1313, 1314, 1316, 1324, 1325, 1326, 1327, 1328, 1329, 1337, 1338, 1339, 1340, 1341, 1342, 1350, 1351, 1352, 1353, 1354, 1355, 1356, 1364, 1365, 1366, 1367, 1368, 1369, 1377, 1378, 1379, 1380, 1381, 1382, 1383, 1391, 1392, 1393, 1394, 1395, 1396, 1404, 1405, 1406, 1407, 1408, 1409, 1410, 1418, 1419, 1420, 1421, 1422, 1423, 1431, 1432, 1433, 1434, 1435, 1436, 1437, 1445, 1446, 1447, 1448, 1449, 1450, 1458, 1459, 1460, 1461, 1462, 1463, 1471, 1472, 1473, 1474, 1475, 1476, 1477, 1485, 1486, 1487, 1488, 1489, 1490, 1498, 1499, 1500, 1501, 1502, 1503, 1504, 1511, 1512, 1513, 1514, 1515, 1516, 1517, 1525, 1526, 1527, 1528, 1529, 1530, 1538, 1539, 1540, 1541, 1542, 1543, 1544, 1552, 1553, 1554, 1555, 1556, 1557, 1565, 1566, 1567, 1568, 1569, 1570, 1578, 1579, 1580, 1581, 1582, 1583, 1584, 1593, 1594, 1595, 1596, 1597, 1598, 1606, 1607, 1608, 1609, 1610, 1611, 1619, 1620, 1621, 1622, 1623, 1624, 1625, 1633, 1634, 1635, 1636, 1637, 1638, 1646, 1647, 1648, 1649, 1650, 1651, 1652, 1660, 1661, 1662, 1663, 1664, 1665, 1673, 1674, 1675, 1676, 1677, 1678, 1686, 1687, 1688, 1689, 1690, 1691, 1692, 1701, 1702, 1703, 1704, 1705, 1713, 1714, 1715, 1716, 1717, 1718, 1721, 1726, 1727, 1728, 1729, 1730, 1731, 1732, 1736, 1740, 1741, 1742, 1743, 1744, 1745, 1753, 1754, 1755, 1756, 1757, 1758, 1759, 1768, 1769, 1770, 1771, 1772, 1780, 1781, 1782, 1783]\n"
     ]
    }
   ],
   "metadata": {}
  },
  {
   "cell_type": "code",
   "execution_count": 21,
   "source": [
    "# Segundo intento\r\n",
    "id_error_2 = list()\r\n",
    "\r\n",
    "for elem in id_error:\r\n",
    "    try:\r\n",
    "        coord[elem] = peticion_individual(KEY,df_clean['query'][elem])\r\n",
    "    except:\r\n",
    "        id_error_2.append(elem)"
   ],
   "outputs": [],
   "metadata": {}
  },
  {
   "cell_type": "code",
   "execution_count": 22,
   "source": [
    "print(id_error_2)"
   ],
   "outputs": [
    {
     "output_type": "stream",
     "name": "stdout",
     "text": [
      "[7, 8, 9, 22, 25, 26, 34, 35, 36, 52, 53, 62, 63, 64, 65, 66, 88, 89, 90, 91, 92, 93, 109, 117, 118, 119, 120, 121, 129, 145, 146, 147, 148, 149, 157, 172, 174, 175, 176, 184, 185, 186, 201, 202, 203, 211, 212, 213, 229, 230, 231, 232, 240, 241, 242, 257, 265, 266, 267, 268, 269, 291, 292, 293, 294, 295, 296, 297, 320, 321, 322, 323, 324, 325, 326, 349, 350, 351, 352, 353, 354, 376, 377, 378, 379, 380, 388, 389, 404, 405, 406, 407, 415, 416, 417, 432, 433, 434, 435, 437, 441, 458, 459, 460, 461, 462, 470, 485, 486, 487, 488, 489, 497, 498, 513, 514, 515, 516, 524, 525, 541, 542, 543, 544, 552, 567, 568, 569, 571, 579, 580, 589, 594, 595, 596, 597, 598, 621, 622, 623, 624, 625, 647, 649, 650, 651, 652, 655, 675, 676, 677, 678, 679, 687, 702, 703, 704, 705, 706, 714, 715, 730, 731, 732, 733, 741, 742, 757, 758, 759, 760, 768, 769, 770, 785, 786, 787, 788, 797, 812, 813, 814, 815, 816, 824, 839, 840, 841, 842, 850, 851, 852, 853, 868, 869, 877, 878, 879, 894, 895, 896, 904, 905, 906, 907, 922, 923, 924, 932, 933, 934, 949, 950, 958, 959, 960, 961, 962, 977, 985, 986, 987, 988, 989, 1004, 1012, 1013, 1014, 1015, 1016, 1017, 1039, 1040, 1041, 1042, 1043, 1044, 1066, 1067, 1068, 1069, 1070, 1071, 1079, 1094, 1095, 1096, 1097, 1098, 1106, 1121, 1122, 1123, 1124, 1125, 1134, 1135, 1136, 1150, 1151, 1152, 1153, 1154, 1162, 1175, 1177, 1178, 1179, 1187, 1188, 1189, 1204, 1205, 1206, 1215, 1216, 1217, 1218, 1233, 1234, 1241, 1242, 1243, 1244, 1259, 1260, 1261, 1269, 1270, 1271, 1272, 1287, 1288, 1296, 1297, 1298, 1299, 1306, 1314, 1316, 1324, 1325, 1326, 1328, 1350, 1351, 1352, 1353, 1354, 1355, 1377, 1378, 1379, 1380, 1381, 1404, 1405, 1406, 1407, 1408, 1409, 1410, 1418, 1433, 1434, 1435, 1436, 1437, 1445, 1460, 1461, 1462, 1463, 1471, 1472, 1487, 1488, 1489, 1490, 1498, 1499, 1504, 1513, 1514, 1515, 1516, 1517, 1525, 1526, 1541, 1542, 1544, 1552, 1553, 1568, 1569, 1570, 1578, 1579, 1580, 1581, 1597, 1598, 1606, 1607, 1608, 1609, 1625, 1633, 1634, 1635, 1636, 1637, 1652, 1660, 1661, 1662, 1663, 1664, 1686, 1687, 1688, 1689, 1690, 1691, 1692, 1715, 1716, 1717, 1718, 1721, 1726, 1736, 1740, 1741, 1742, 1743, 1744, 1745, 1768, 1769, 1770, 1771, 1772, 1780, 1781]\n"
     ]
    }
   ],
   "metadata": {}
  },
  {
   "cell_type": "code",
   "execution_count": 23,
   "source": [
    "# Tercer intento\r\n",
    "id_error_3 = list()\r\n",
    "\r\n",
    "for elem in id_error_2:\r\n",
    "    try:\r\n",
    "        coord[elem] = peticion_individual(KEY,df_clean['query'][elem])\r\n",
    "    except:\r\n",
    "        id_error_3.append(elem)"
   ],
   "outputs": [],
   "metadata": {}
  },
  {
   "cell_type": "code",
   "execution_count": 24,
   "source": [
    "print(id_error_3)"
   ],
   "outputs": [
    {
     "output_type": "stream",
     "name": "stdout",
     "text": [
      "[26, 34, 35, 36, 52, 53, 90, 92, 93, 109, 117, 118, 148, 149, 157, 172, 174, 175, 184, 212, 229, 230, 231, 267, 268, 269, 291, 292, 293, 324, 325, 326, 349, 350, 351, 380, 388, 389, 404, 405, 406, 437, 441, 458, 459, 460, 461, 497, 498, 513, 514, 515, 516, 524, 568, 569, 571, 579, 580, 589, 623, 624, 625, 647, 649, 650, 651, 687, 702, 703, 704, 705, 706, 742, 757, 758, 759, 760, 768, 769, 770, 814, 815, 816, 824, 839, 868, 869, 877, 878, 879, 922, 924, 932, 933, 934, 949, 950, 961, 987, 988, 989, 1004, 1012, 1013, 1042, 1043, 1044, 1066, 1067, 1068, 1097, 1098, 1106, 1121, 1122, 1123, 1124, 1125, 1136, 1151, 1154, 1162, 1175, 1177, 1178, 1215, 1216, 1217, 1218, 1233, 1234, 1241, 1270, 1272, 1287, 1288, 1296, 1306, 1325, 1326, 1328, 1351, 1352, 1381, 1404, 1405, 1406, 1407, 1408, 1409, 1445, 1460, 1461, 1462, 1463, 1471, 1504, 1513, 1514, 1515, 1516, 1517, 1525, 1569, 1570, 1578, 1579, 1580, 1581, 1598, 1634, 1635, 1636, 1637, 1652, 1660, 1689, 1690, 1691, 1692, 1715, 1716, 1721, 1736, 1742, 1743, 1744, 1745, 1768, 1769, 1770, 1771]\n"
     ]
    }
   ],
   "metadata": {}
  },
  {
   "cell_type": "code",
   "execution_count": 25,
   "source": [
    "# Cuarto intento\r\n",
    "id_error_4 = list()\r\n",
    "\r\n",
    "for elem in id_error_3:\r\n",
    "    try:\r\n",
    "        coord[elem] = peticion_individual(KEY,df_clean['query'][elem])\r\n",
    "    except:\r\n",
    "        id_error_4.append(elem)"
   ],
   "outputs": [],
   "metadata": {}
  },
  {
   "cell_type": "code",
   "execution_count": 26,
   "source": [
    "print(id_error_4)"
   ],
   "outputs": [
    {
     "output_type": "stream",
     "name": "stdout",
     "text": [
      "[52, 53, 90, 92, 93, 174, 175, 184, 212, 229, 230, 231, 325, 326, 349, 350, 351, 380, 441, 458, 459, 460, 461, 497, 498, 513, 579, 580, 589, 623, 624, 625, 704, 705, 706, 742, 757, 758, 759, 839, 868, 869, 877, 878, 950, 961, 987, 988, 989, 1004, 1012, 1013, 1098, 1106, 1121, 1122, 1123, 1136, 1151, 1175, 1177, 1178, 1215, 1216, 1217, 1218, 1233, 1241, 1306, 1325, 1326, 1328, 1351, 1352, 1404, 1445, 1460, 1461, 1462, 1463, 1471, 1504, 1570, 1578, 1579, 1580, 1581, 1598, 1690, 1691, 1692, 1715, 1716, 1721, 1736, 1743, 1745]\n"
     ]
    }
   ],
   "metadata": {}
  },
  {
   "cell_type": "code",
   "execution_count": 34,
   "source": [
    "# Quinto intento\r\n",
    "id_error_5 = list()\r\n",
    "\r\n",
    "for elem in id_error_4:\r\n",
    "    try:\r\n",
    "        coord[elem] = peticion_individual(KEY,df_clean['query'][elem])\r\n",
    "    except:\r\n",
    "        id_error_5.append(elem)"
   ],
   "outputs": [],
   "metadata": {}
  },
  {
   "cell_type": "code",
   "execution_count": 39,
   "source": [
    "print(id_error_5,len(df_clean))"
   ],
   "outputs": [
    {
     "output_type": "stream",
     "name": "stdout",
     "text": [
      "[184, 212, 229, 230, 231, 325, 326, 349, 441, 461, 497, 498, 513, 589, 706, 742, 757, 758, 759, 839, 868, 989, 1004, 1012, 1013, 1098, 1106, 1136, 1151, 1175, 1177, 1178, 1215, 1216, 1217, 1218, 1233, 1241, 1306, 1404, 1445, 1460, 1462, 1463, 1471, 1504, 1690, 1691, 1692, 1715, 1716, 1721, 1736, 1743] 1772\n"
     ]
    }
   ],
   "metadata": {}
  },
  {
   "cell_type": "code",
   "execution_count": 40,
   "source": [
    "# Sexto intento\r\n",
    "id_error_6 = list()\r\n",
    "\r\n",
    "for elem in id_error_5:\r\n",
    "    try:\r\n",
    "        coord[elem] = peticion_individual(KEY,df_clean['query'][elem])\r\n",
    "    except:\r\n",
    "        id_error_6.append(elem)"
   ],
   "outputs": [],
   "metadata": {}
  },
  {
   "cell_type": "code",
   "execution_count": 41,
   "source": [
    "print(id_error_6,len(df_clean))"
   ],
   "outputs": [
    {
     "output_type": "stream",
     "name": "stdout",
     "text": [
      "[229, 349, 441, 461, 497, 498, 513, 589, 989, 1004, 1012, 1013, 1098, 1106, 1136, 1151, 1175, 1177, 1217, 1218, 1233, 1241, 1306, 1404, 1445, 1463, 1504, 1715, 1716, 1721, 1736, 1743] 1772\n"
     ]
    }
   ],
   "metadata": {}
  },
  {
   "cell_type": "code",
   "execution_count": 42,
   "source": [
    "# Séptimo intento\r\n",
    "id_error_7 = list()\r\n",
    "\r\n",
    "for elem in id_error_6:\r\n",
    "    try:\r\n",
    "        coord[elem] = peticion_individual(KEY,df_clean['query'][elem])\r\n",
    "    except:\r\n",
    "        id_error_7.append(elem)"
   ],
   "outputs": [],
   "metadata": {}
  },
  {
   "cell_type": "code",
   "execution_count": 43,
   "source": [
    "print(id_error_7,len(df_clean))"
   ],
   "outputs": [
    {
     "output_type": "stream",
     "name": "stdout",
     "text": [
      "[229, 441, 589, 989, 1004, 1012, 1013, 1098, 1106, 1136, 1151, 1175, 1177, 1241, 1306, 1404, 1445, 1463, 1504, 1721, 1736, 1743] 1772\n"
     ]
    }
   ],
   "metadata": {}
  },
  {
   "cell_type": "code",
   "execution_count": 44,
   "source": [
    "# Oct intento\r\n",
    "id_error_8 = list()\r\n",
    "\r\n",
    "for elem in id_error_7:\r\n",
    "    try:\r\n",
    "        coord[elem] = peticion_individual(KEY,df_clean['query'][elem])\r\n",
    "    except:\r\n",
    "        id_error_8.append(elem)"
   ],
   "outputs": [],
   "metadata": {}
  },
  {
   "cell_type": "code",
   "execution_count": 45,
   "source": [
    "print(id_error_8,len(df_clean))"
   ],
   "outputs": [
    {
     "output_type": "stream",
     "name": "stdout",
     "text": [
      "[229, 441, 589, 1098, 1106, 1136, 1151, 1175, 1177, 1241, 1306, 1404, 1504, 1721, 1736, 1743] 1772\n"
     ]
    }
   ],
   "metadata": {}
  },
  {
   "cell_type": "code",
   "execution_count": 59,
   "source": [
    "# Intentos restantes\r\n",
    "id_error_12 = list()\r\n",
    "\r\n",
    "for elem in id_error_11:\r\n",
    "    try:\r\n",
    "        coord[elem] = peticion_individual(KEY,df_clean['query'][elem])\r\n",
    "    except:\r\n",
    "        id_error_12.append(elem)"
   ],
   "outputs": [],
   "metadata": {}
  },
  {
   "cell_type": "code",
   "execution_count": 60,
   "source": [
    "print(len(id_error_12),len(coord),len(df_clean))"
   ],
   "outputs": [
    {
     "output_type": "stream",
     "name": "stdout",
     "text": [
      "14 1758 1772\n"
     ]
    }
   ],
   "metadata": {}
  },
  {
   "cell_type": "code",
   "execution_count": 61,
   "source": [
    "# convertir a df y mergear por id\r\n",
    "d = {'_id' : coord.keys(), 'coord' : coord.values()}\r\n",
    "coord_df = pd.DataFrame(data = d)\r\n",
    "coord_df"
   ],
   "outputs": [
    {
     "output_type": "execute_result",
     "data": {
      "text/html": [
       "<div>\n",
       "<style scoped>\n",
       "    .dataframe tbody tr th:only-of-type {\n",
       "        vertical-align: middle;\n",
       "    }\n",
       "\n",
       "    .dataframe tbody tr th {\n",
       "        vertical-align: top;\n",
       "    }\n",
       "\n",
       "    .dataframe thead th {\n",
       "        text-align: right;\n",
       "    }\n",
       "</style>\n",
       "<table border=\"1\" class=\"dataframe\">\n",
       "  <thead>\n",
       "    <tr style=\"text-align: right;\">\n",
       "      <th></th>\n",
       "      <th>_id</th>\n",
       "      <th>coord</th>\n",
       "    </tr>\n",
       "  </thead>\n",
       "  <tbody>\n",
       "    <tr>\n",
       "      <th>0</th>\n",
       "      <td>0</td>\n",
       "      <td>40.3960957,-3.6490087</td>\n",
       "    </tr>\n",
       "    <tr>\n",
       "      <th>1</th>\n",
       "      <td>1</td>\n",
       "      <td>40.492446,-3.695208</td>\n",
       "    </tr>\n",
       "    <tr>\n",
       "      <th>2</th>\n",
       "      <td>2</td>\n",
       "      <td>40.3534264,-3.8153475</td>\n",
       "    </tr>\n",
       "    <tr>\n",
       "      <th>3</th>\n",
       "      <td>3</td>\n",
       "      <td>40.4783861,-3.6502275</td>\n",
       "    </tr>\n",
       "    <tr>\n",
       "      <th>4</th>\n",
       "      <td>4</td>\n",
       "      <td>40.4250762,-3.6864769</td>\n",
       "    </tr>\n",
       "    <tr>\n",
       "      <th>...</th>\n",
       "      <td>...</td>\n",
       "      <td>...</td>\n",
       "    </tr>\n",
       "    <tr>\n",
       "      <th>1753</th>\n",
       "      <td>1013</td>\n",
       "      <td>40.3741678,-3.7531309</td>\n",
       "    </tr>\n",
       "    <tr>\n",
       "      <th>1754</th>\n",
       "      <td>1445</td>\n",
       "      <td>40.4736132,-3.720858</td>\n",
       "    </tr>\n",
       "    <tr>\n",
       "      <th>1755</th>\n",
       "      <td>1463</td>\n",
       "      <td>40.4190208,-3.6117053</td>\n",
       "    </tr>\n",
       "    <tr>\n",
       "      <th>1756</th>\n",
       "      <td>1098</td>\n",
       "      <td>40.35024809999999,-3.8119025</td>\n",
       "    </tr>\n",
       "    <tr>\n",
       "      <th>1757</th>\n",
       "      <td>1106</td>\n",
       "      <td>40.3786148,-3.5366335</td>\n",
       "    </tr>\n",
       "  </tbody>\n",
       "</table>\n",
       "<p>1758 rows × 2 columns</p>\n",
       "</div>"
      ],
      "text/plain": [
       "       _id                         coord\n",
       "0        0         40.3960957,-3.6490087\n",
       "1        1           40.492446,-3.695208\n",
       "2        2         40.3534264,-3.8153475\n",
       "3        3         40.4783861,-3.6502275\n",
       "4        4         40.4250762,-3.6864769\n",
       "...    ...                           ...\n",
       "1753  1013         40.3741678,-3.7531309\n",
       "1754  1445          40.4736132,-3.720858\n",
       "1755  1463         40.4190208,-3.6117053\n",
       "1756  1098  40.35024809999999,-3.8119025\n",
       "1757  1106         40.3786148,-3.5366335\n",
       "\n",
       "[1758 rows x 2 columns]"
      ]
     },
     "metadata": {},
     "execution_count": 61
    }
   ],
   "metadata": {}
  },
  {
   "cell_type": "code",
   "execution_count": 65,
   "source": [
    "df_clean_coord = df_clean.merge(coord_df, on = '_id')"
   ],
   "outputs": [],
   "metadata": {}
  },
  {
   "cell_type": "code",
   "execution_count": 66,
   "source": [
    "df_clean_coord.head()"
   ],
   "outputs": [
    {
     "output_type": "execute_result",
     "data": {
      "text/html": [
       "<div>\n",
       "<style scoped>\n",
       "    .dataframe tbody tr th:only-of-type {\n",
       "        vertical-align: middle;\n",
       "    }\n",
       "\n",
       "    .dataframe tbody tr th {\n",
       "        vertical-align: top;\n",
       "    }\n",
       "\n",
       "    .dataframe thead th {\n",
       "        text-align: right;\n",
       "    }\n",
       "</style>\n",
       "<table border=\"1\" class=\"dataframe\">\n",
       "  <thead>\n",
       "    <tr style=\"text-align: right;\">\n",
       "      <th></th>\n",
       "      <th>_id</th>\n",
       "      <th>name</th>\n",
       "      <th>address</th>\n",
       "      <th>price</th>\n",
       "      <th>review</th>\n",
       "      <th>description</th>\n",
       "      <th>type</th>\n",
       "      <th>query</th>\n",
       "      <th>coord</th>\n",
       "    </tr>\n",
       "  </thead>\n",
       "  <tbody>\n",
       "    <tr>\n",
       "      <th>0</th>\n",
       "      <td>0</td>\n",
       "      <td>Virgen Del Cerro</td>\n",
       "      <td>Calle Mohernando 1, 28038, Madrid, Madrid</td>\n",
       "      <td>Menos de 100€/mes</td>\n",
       "      <td>4.3 estrellas</td>\n",
       "      <td>Colegio Público de Educación Infantil y Primaria</td>\n",
       "      <td>Publico</td>\n",
       "      <td>school Virgen Del Cerro, Calle Mohernando 1, 2...</td>\n",
       "      <td>40.3960957,-3.6490087</td>\n",
       "    </tr>\n",
       "    <tr>\n",
       "      <th>1</th>\n",
       "      <td>1</td>\n",
       "      <td>República Del Paraguay</td>\n",
       "      <td>Calle Manresa 60, 28034, Madrid, Madrid</td>\n",
       "      <td>Menos de 100€/mes</td>\n",
       "      <td>4.7 estrellas</td>\n",
       "      <td>Colegio Público de Educación Infantil y Primaria</td>\n",
       "      <td>Publico</td>\n",
       "      <td>school República Del Paraguay, Calle Manresa 6...</td>\n",
       "      <td>40.492446,-3.695208</td>\n",
       "    </tr>\n",
       "    <tr>\n",
       "      <th>2</th>\n",
       "      <td>2</td>\n",
       "      <td>San José De Valderas</td>\n",
       "      <td>Avenida de los Derechos Humanos 6, 28924, Alco...</td>\n",
       "      <td>Menos de 100€/mes</td>\n",
       "      <td>4.1 estrellas</td>\n",
       "      <td>Colegio Público de Educación Infantil y Primaria</td>\n",
       "      <td>Publico</td>\n",
       "      <td>school San José De Valderas, Avenida de los De...</td>\n",
       "      <td>40.3534264,-3.8153475</td>\n",
       "    </tr>\n",
       "    <tr>\n",
       "      <th>3</th>\n",
       "      <td>3</td>\n",
       "      <td>Filosofo Séneca</td>\n",
       "      <td>Calle Santa Adela 21, 28033, Madrid, Madrid</td>\n",
       "      <td>Menos de 100€/mes</td>\n",
       "      <td>4.1 estrellas</td>\n",
       "      <td>Colegio Público de Educación Infantil y Primaria</td>\n",
       "      <td>Publico</td>\n",
       "      <td>school Filosofo Séneca, Calle Santa Adela 21, ...</td>\n",
       "      <td>40.4783861,-3.6502275</td>\n",
       "    </tr>\n",
       "    <tr>\n",
       "      <th>4</th>\n",
       "      <td>4</td>\n",
       "      <td>Beatriz Galindo</td>\n",
       "      <td>Calle de Goya 10, 28001, Madrid, Madrid</td>\n",
       "      <td>Menos de 100€/mes</td>\n",
       "      <td>3.5 estrellas</td>\n",
       "      <td>Instituto Público de Educación Secundaria, Bac...</td>\n",
       "      <td>Publico</td>\n",
       "      <td>school Beatriz Galindo, Calle de Goya 10, 2800...</td>\n",
       "      <td>40.4250762,-3.6864769</td>\n",
       "    </tr>\n",
       "  </tbody>\n",
       "</table>\n",
       "</div>"
      ],
      "text/plain": [
       "   _id                    name  \\\n",
       "0    0        Virgen Del Cerro   \n",
       "1    1  República Del Paraguay   \n",
       "2    2    San José De Valderas   \n",
       "3    3         Filosofo Séneca   \n",
       "4    4         Beatriz Galindo   \n",
       "\n",
       "                                             address              price  \\\n",
       "0          Calle Mohernando 1, 28038, Madrid, Madrid  Menos de 100€/mes   \n",
       "1            Calle Manresa 60, 28034, Madrid, Madrid  Menos de 100€/mes   \n",
       "2  Avenida de los Derechos Humanos 6, 28924, Alco...  Menos de 100€/mes   \n",
       "3        Calle Santa Adela 21, 28033, Madrid, Madrid  Menos de 100€/mes   \n",
       "4            Calle de Goya 10, 28001, Madrid, Madrid  Menos de 100€/mes   \n",
       "\n",
       "          review                                        description     type  \\\n",
       "0  4.3 estrellas   Colegio Público de Educación Infantil y Primaria  Publico   \n",
       "1  4.7 estrellas   Colegio Público de Educación Infantil y Primaria  Publico   \n",
       "2  4.1 estrellas   Colegio Público de Educación Infantil y Primaria  Publico   \n",
       "3  4.1 estrellas   Colegio Público de Educación Infantil y Primaria  Publico   \n",
       "4  3.5 estrellas  Instituto Público de Educación Secundaria, Bac...  Publico   \n",
       "\n",
       "                                               query                  coord  \n",
       "0  school Virgen Del Cerro, Calle Mohernando 1, 2...  40.3960957,-3.6490087  \n",
       "1  school República Del Paraguay, Calle Manresa 6...    40.492446,-3.695208  \n",
       "2  school San José De Valderas, Avenida de los De...  40.3534264,-3.8153475  \n",
       "3  school Filosofo Séneca, Calle Santa Adela 21, ...  40.4783861,-3.6502275  \n",
       "4  school Beatriz Galindo, Calle de Goya 10, 2800...  40.4250762,-3.6864769  "
      ]
     },
     "metadata": {},
     "execution_count": 66
    }
   ],
   "metadata": {}
  },
  {
   "cell_type": "code",
   "execution_count": 67,
   "source": [
    "df_clean_coord.isnull().sum()"
   ],
   "outputs": [
    {
     "output_type": "execute_result",
     "data": {
      "text/plain": [
       "_id            0\n",
       "name           0\n",
       "address        0\n",
       "price          0\n",
       "review         0\n",
       "description    0\n",
       "type           0\n",
       "query          0\n",
       "coord          0\n",
       "dtype: int64"
      ]
     },
     "metadata": {},
     "execution_count": 67
    }
   ],
   "metadata": {}
  },
  {
   "cell_type": "code",
   "execution_count": 68,
   "source": [
    "coords = df_clean_coord[\"coord\"].str.split(\",\",expand=True)\r\n",
    "coords.columns = ['latitude', 'longitude']\r\n",
    "df_final = pd.concat([df_clean_coord, coords], axis=1)\r\n",
    "df_final.head()"
   ],
   "outputs": [
    {
     "output_type": "execute_result",
     "data": {
      "text/html": [
       "<div>\n",
       "<style scoped>\n",
       "    .dataframe tbody tr th:only-of-type {\n",
       "        vertical-align: middle;\n",
       "    }\n",
       "\n",
       "    .dataframe tbody tr th {\n",
       "        vertical-align: top;\n",
       "    }\n",
       "\n",
       "    .dataframe thead th {\n",
       "        text-align: right;\n",
       "    }\n",
       "</style>\n",
       "<table border=\"1\" class=\"dataframe\">\n",
       "  <thead>\n",
       "    <tr style=\"text-align: right;\">\n",
       "      <th></th>\n",
       "      <th>_id</th>\n",
       "      <th>name</th>\n",
       "      <th>address</th>\n",
       "      <th>price</th>\n",
       "      <th>review</th>\n",
       "      <th>description</th>\n",
       "      <th>type</th>\n",
       "      <th>query</th>\n",
       "      <th>coord</th>\n",
       "      <th>latitude</th>\n",
       "      <th>longitude</th>\n",
       "    </tr>\n",
       "  </thead>\n",
       "  <tbody>\n",
       "    <tr>\n",
       "      <th>0</th>\n",
       "      <td>0</td>\n",
       "      <td>Virgen Del Cerro</td>\n",
       "      <td>Calle Mohernando 1, 28038, Madrid, Madrid</td>\n",
       "      <td>Menos de 100€/mes</td>\n",
       "      <td>4.3 estrellas</td>\n",
       "      <td>Colegio Público de Educación Infantil y Primaria</td>\n",
       "      <td>Publico</td>\n",
       "      <td>school Virgen Del Cerro, Calle Mohernando 1, 2...</td>\n",
       "      <td>40.3960957,-3.6490087</td>\n",
       "      <td>40.3960957</td>\n",
       "      <td>-3.6490087</td>\n",
       "    </tr>\n",
       "    <tr>\n",
       "      <th>1</th>\n",
       "      <td>1</td>\n",
       "      <td>República Del Paraguay</td>\n",
       "      <td>Calle Manresa 60, 28034, Madrid, Madrid</td>\n",
       "      <td>Menos de 100€/mes</td>\n",
       "      <td>4.7 estrellas</td>\n",
       "      <td>Colegio Público de Educación Infantil y Primaria</td>\n",
       "      <td>Publico</td>\n",
       "      <td>school República Del Paraguay, Calle Manresa 6...</td>\n",
       "      <td>40.492446,-3.695208</td>\n",
       "      <td>40.492446</td>\n",
       "      <td>-3.695208</td>\n",
       "    </tr>\n",
       "    <tr>\n",
       "      <th>2</th>\n",
       "      <td>2</td>\n",
       "      <td>San José De Valderas</td>\n",
       "      <td>Avenida de los Derechos Humanos 6, 28924, Alco...</td>\n",
       "      <td>Menos de 100€/mes</td>\n",
       "      <td>4.1 estrellas</td>\n",
       "      <td>Colegio Público de Educación Infantil y Primaria</td>\n",
       "      <td>Publico</td>\n",
       "      <td>school San José De Valderas, Avenida de los De...</td>\n",
       "      <td>40.3534264,-3.8153475</td>\n",
       "      <td>40.3534264</td>\n",
       "      <td>-3.8153475</td>\n",
       "    </tr>\n",
       "    <tr>\n",
       "      <th>3</th>\n",
       "      <td>3</td>\n",
       "      <td>Filosofo Séneca</td>\n",
       "      <td>Calle Santa Adela 21, 28033, Madrid, Madrid</td>\n",
       "      <td>Menos de 100€/mes</td>\n",
       "      <td>4.1 estrellas</td>\n",
       "      <td>Colegio Público de Educación Infantil y Primaria</td>\n",
       "      <td>Publico</td>\n",
       "      <td>school Filosofo Séneca, Calle Santa Adela 21, ...</td>\n",
       "      <td>40.4783861,-3.6502275</td>\n",
       "      <td>40.4783861</td>\n",
       "      <td>-3.6502275</td>\n",
       "    </tr>\n",
       "    <tr>\n",
       "      <th>4</th>\n",
       "      <td>4</td>\n",
       "      <td>Beatriz Galindo</td>\n",
       "      <td>Calle de Goya 10, 28001, Madrid, Madrid</td>\n",
       "      <td>Menos de 100€/mes</td>\n",
       "      <td>3.5 estrellas</td>\n",
       "      <td>Instituto Público de Educación Secundaria, Bac...</td>\n",
       "      <td>Publico</td>\n",
       "      <td>school Beatriz Galindo, Calle de Goya 10, 2800...</td>\n",
       "      <td>40.4250762,-3.6864769</td>\n",
       "      <td>40.4250762</td>\n",
       "      <td>-3.6864769</td>\n",
       "    </tr>\n",
       "  </tbody>\n",
       "</table>\n",
       "</div>"
      ],
      "text/plain": [
       "   _id                    name  \\\n",
       "0    0        Virgen Del Cerro   \n",
       "1    1  República Del Paraguay   \n",
       "2    2    San José De Valderas   \n",
       "3    3         Filosofo Séneca   \n",
       "4    4         Beatriz Galindo   \n",
       "\n",
       "                                             address              price  \\\n",
       "0          Calle Mohernando 1, 28038, Madrid, Madrid  Menos de 100€/mes   \n",
       "1            Calle Manresa 60, 28034, Madrid, Madrid  Menos de 100€/mes   \n",
       "2  Avenida de los Derechos Humanos 6, 28924, Alco...  Menos de 100€/mes   \n",
       "3        Calle Santa Adela 21, 28033, Madrid, Madrid  Menos de 100€/mes   \n",
       "4            Calle de Goya 10, 28001, Madrid, Madrid  Menos de 100€/mes   \n",
       "\n",
       "          review                                        description     type  \\\n",
       "0  4.3 estrellas   Colegio Público de Educación Infantil y Primaria  Publico   \n",
       "1  4.7 estrellas   Colegio Público de Educación Infantil y Primaria  Publico   \n",
       "2  4.1 estrellas   Colegio Público de Educación Infantil y Primaria  Publico   \n",
       "3  4.1 estrellas   Colegio Público de Educación Infantil y Primaria  Publico   \n",
       "4  3.5 estrellas  Instituto Público de Educación Secundaria, Bac...  Publico   \n",
       "\n",
       "                                               query                  coord  \\\n",
       "0  school Virgen Del Cerro, Calle Mohernando 1, 2...  40.3960957,-3.6490087   \n",
       "1  school República Del Paraguay, Calle Manresa 6...    40.492446,-3.695208   \n",
       "2  school San José De Valderas, Avenida de los De...  40.3534264,-3.8153475   \n",
       "3  school Filosofo Séneca, Calle Santa Adela 21, ...  40.4783861,-3.6502275   \n",
       "4  school Beatriz Galindo, Calle de Goya 10, 2800...  40.4250762,-3.6864769   \n",
       "\n",
       "     latitude   longitude  \n",
       "0  40.3960957  -3.6490087  \n",
       "1   40.492446   -3.695208  \n",
       "2  40.3534264  -3.8153475  \n",
       "3  40.4783861  -3.6502275  \n",
       "4  40.4250762  -3.6864769  "
      ]
     },
     "metadata": {},
     "execution_count": 68
    }
   ],
   "metadata": {}
  },
  {
   "cell_type": "code",
   "execution_count": 70,
   "source": [
    "df_final.to_csv(\"datos_colegios_clean.csv\", index = False)"
   ],
   "outputs": [],
   "metadata": {}
  },
  {
   "cell_type": "markdown",
   "source": [
    "# Subir los datos a S3"
   ],
   "metadata": {}
  },
  {
   "cell_type": "code",
   "execution_count": 71,
   "source": [
    "# El fichero a subir tiene que estar guardado en local\r\n",
    "aws_subir_archivo_s3(\"data2gether-playground\",\"datos_colegios_clean.csv\",\"Arnau\") # Si funciona devuelve true"
   ],
   "outputs": [
    {
     "output_type": "execute_result",
     "data": {
      "text/plain": [
       "True"
      ]
     },
     "metadata": {},
     "execution_count": 71
    }
   ],
   "metadata": {}
  }
 ],
 "metadata": {
  "colab": {
   "collapsed_sections": [],
   "name": "dividir csv viviendas.ipynb",
   "provenance": []
  },
  "kernelspec": {
   "display_name": "Python 3",
   "language": "python",
   "name": "python3"
  },
  "language_info": {
   "codemirror_mode": {
    "name": "ipython",
    "version": 3
   },
   "file_extension": ".py",
   "mimetype": "text/x-python",
   "name": "python",
   "nbconvert_exporter": "python",
   "pygments_lexer": "ipython3",
   "version": "3.7.10"
  }
 },
 "nbformat": 4,
 "nbformat_minor": 4
}