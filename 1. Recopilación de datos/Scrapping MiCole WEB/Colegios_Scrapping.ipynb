{
 "cells": [
  {
   "cell_type": "code",
   "execution_count": 58,
   "metadata": {},
   "outputs": [],
   "source": [
    "import pandas as pd\n",
    "import numpy as np\n",
    "import matplotlib.pyplot as plt\n",
    "import requests # Peticiones HTTP\n",
    "from bs4 import BeautifulSoup # Web Scrapping\n",
    "import time # Prevenir detección de Scrapping\n",
    "import traceback # Visualización de excepciones\n",
    "from selenium import webdriver\n",
    "import random\n",
    "import os"
   ]
  },
  {
   "cell_type": "code",
   "execution_count": 108,
   "metadata": {},
   "outputs": [],
   "source": [
    "driver = webdriver.Chrome(\"/usr/lib/chromium-browser/chromedriver\")"
   ]
  },
  {
   "cell_type": "markdown",
   "metadata": {},
   "source": [
    "**IMPORTANTE:** El link no va bien porque te pone la posicion de donde estes aunque se lo especifiques, asi que lo suyo sería una vez abierto el driver ir a la web y hacer la busqueda nosotros."
   ]
  },
  {
   "cell_type": "code",
   "execution_count": 75,
   "metadata": {},
   "outputs": [],
   "source": [
    "# Web con los datos\n",
    "url = 'https://www.micole.net/panel/busqueda-avanzada?latitude=40.41955&longitude=-3.69196&scope_id=1|3|2&get_maps=1&range=15'\n",
    "\n",
    "driver.get(url)\n",
    "time.sleep(5)"
   ]
  },
  {
   "cell_type": "code",
   "execution_count": 61,
   "metadata": {
    "scrolled": false
   },
   "outputs": [
    {
     "name": "stdout",
     "output_type": "stream",
     "text": [
      "International School Of Madrid\n",
      "Calle De Rosa Jardón 1, 28016, Madrid, Madrid\n",
      "Más de 700€/mes\n",
      "4.7 estrellas\n",
      "Colegio Privado de Educación Infantil, Primaria, Secundaria y Bachillerato\n"
     ]
    }
   ],
   "source": [
    "# Cargamos el html en un objeto BeautifulSoap\n",
    "html = BeautifulSoup(driver.page_source)\n",
    "# Cargamos todas los colegios\n",
    "div_list = html.find_all('div',{'class':'advSearchResults'})\n",
    "\n",
    "# Name\n",
    "name = div_list[0].find_all('a')[1].text\n",
    "\n",
    "# Address\n",
    "address = div_list[0].find('small').text\n",
    "\n",
    "# Price\n",
    "price = div_list[0].find('div',{'class':'my-2 d-none d-md-block'}).find('h3').get('title')\n",
    "\n",
    "# Review\n",
    "review = div_list[0].find('div',{'class':'ratings'}).find('span').get('aria-label')\n",
    "\n",
    "# Description\n",
    "description = div_list[0].find('div',{'class':'my-2'}).find('h3').text\n",
    "print(name, address, price, review, description, sep='\\n')"
   ]
  },
  {
   "cell_type": "code",
   "execution_count": 63,
   "metadata": {},
   "outputs": [
    {
     "data": {
      "text/plain": [
       "[{'name': 'International School Of Madrid',\n",
       "  'address': 'Calle De Rosa Jardón 1, 28016, Madrid, Madrid',\n",
       "  'price': 'Más de 700€/mes',\n",
       "  'review': '4.7 estrellas',\n",
       "  'description': 'Colegio Privado de Educación Infantil, Primaria, Secundaria y Bachillerato'},\n",
       " {'name': 'Los Tilos',\n",
       "  'address': 'Calle el Bosco s/n, 28038, Madrid, Madrid',\n",
       "  'price': 'Entre 100€ y 300€/mes',\n",
       "  'review': '3.8 estrellas',\n",
       "  'description': 'Colegio Concertado de Educación Infantil, Primaria, Secundaria y Bachillerato'},\n",
       " {'name': 'Highlands School El Encinar',\n",
       "  'address': 'Calle de San Enrique de Ossó 46, 28050, Madrid, Madrid',\n",
       "  'price': 'Más de 700€/mes',\n",
       "  'review': '3.3 estrellas',\n",
       "  'description': 'Colegio Privado de Educación Infantil, Primaria, Secundaria y Bachillerato'},\n",
       " {'name': 'Alameda De Osuna',\n",
       "  'address': 'Paseo de la Alameda de Osuna 60, 28042, Madrid, Madrid',\n",
       "  'price': 'Entre 300€ y 700€/mes',\n",
       "  'review': '3.5 estrellas',\n",
       "  'description': 'Colegio Privado de Educación Infantil, Primaria, Secundaria, Bachillerato y FP'},\n",
       " {'name': 'Arcángel Rafael',\n",
       "  'address': 'Calle de Maqueda 4, 28024, Madrid, Madrid',\n",
       "  'price': 'Entre 300€ y 700€/mes',\n",
       "  'review': '4.3 estrellas',\n",
       "  'description': 'Colegio Privado de Educación Infantil, Primaria, Secundaria y Bachillerato'},\n",
       " {'name': 'Everest',\n",
       "  'address': 'Urb. Monteclaro, 28223, Pozuelo de Alarcón, Madrid',\n",
       "  'price': 'Entre 300€ y 700€/mes',\n",
       "  'review': '4.2 estrellas',\n",
       "  'description': 'Colegio Privado de Educación Infantil, Primaria, Secundaria y Bachillerato'},\n",
       " {'name': 'Santa Gema Galgani',\n",
       "  'address': 'Calle de Tembleque 50 bis, 28024, Madrid, Madrid',\n",
       "  'price': 'Entre 100€ y 300€/mes',\n",
       "  'review': '3.9 estrellas',\n",
       "  'description': 'Colegio Concertado de Educación Infantil, Primaria, Secundaria, Bachillerato y FP'},\n",
       " {'name': 'Ábaco',\n",
       "  'address': 'Avenida de la Peseta 8, 28054, Madrid, Madrid',\n",
       "  'price': 'Entre 100€ y 300€/mes',\n",
       "  'review': '4.2 estrellas',\n",
       "  'description': 'Colegio Concertado de Educación Infantil, Primaria, Secundaria y Bachillerato'},\n",
       " {'name': 'Santa María De Los Rosales',\n",
       "  'address': 'Calle Virgen de los Rosales 1, 28023, Madrid, Madrid',\n",
       "  'price': 'Entre 300€ y 700€/mes',\n",
       "  'review': '3.2 estrellas',\n",
       "  'description': 'Colegio Privado de Educación Infantil, Primaria, Secundaria y Bachillerato'},\n",
       " {'name': 'Brains International School La Moraleja',\n",
       "  'address': 'Calle de la Salvia 48, 28109, Alcobendas, Madrid',\n",
       "  'price': 'Más de 700€/mes',\n",
       "  'review': '3.7 estrellas',\n",
       "  'description': 'Colegio Privado de Educación Infantil, Primaria, Secundaria y Bachillerato'}]"
      ]
     },
     "execution_count": 63,
     "metadata": {},
     "output_type": "execute_result"
    }
   ],
   "source": [
    "# Funcion para extraer la información\n",
    "def extract_info(div):\n",
    "    return {\n",
    "        'name': div.find_all('a')[1].text,\n",
    "        'address': div.find('small').text,\n",
    "        'price': div.find('div',{'class':'my-2 d-none d-md-block'}).find('h3').get('title'),\n",
    "        'review': div.find('div',{'class':'ratings'}).find('span').get('aria-label'),\n",
    "        'description': div.find('div',{'class':'my-2'}).find('h3').text\n",
    "    }\n",
    "\n",
    "info_list = [extract_info(div) for div in div_list]\n",
    "info_list[0:2]"
   ]
  },
  {
   "cell_type": "markdown",
   "metadata": {},
   "source": [
    "**IMPORTANTE:** La página tiene scroll infinito, por lo que para cargar todos los colegios tenemos que ir haciendo Scroll hasta que se carguen todos. Para saber cuando estan cargados simplemente tenemos que fijarnos en que saldra el icono de que esta cargando más pero no hará nada. Debido a que un exceso de colegios puede reventar el driver, lo suyo es no cargar más de 1000 colegios.  Para este caso he ido ejecuntado las siguientes celdas para cada uno de los tipos (Concerta, Privado y Publico) para evitar que reventase el driver. El siguiente código no sabe cuando se ha acabado de cargar por ello vamos incrementando o reduciendo el rango del loop hasta que validemos **nosotros** que estan todos cargados. "
   ]
  },
  {
   "cell_type": "code",
   "execution_count": 112,
   "metadata": {},
   "outputs": [],
   "source": [
    "# Código para scrollear hasta tenerlos todos cargados\n",
    "scroll_pause_time = 1 # You can set your own pause time. My laptop is a bit slow so I use 1 sec\n",
    "\n",
    "for i in range(0, 25):\n",
    "    driver.execute_script(\"arguments[0].scrollIntoView({block: \\\"center\\\", inline: \\\"center\\\"});\", driver.find_element_by_xpath(f\"//footer\"))\n",
    "    time.sleep(scroll_pause_time)"
   ]
  },
  {
   "cell_type": "code",
   "execution_count": 113,
   "metadata": {},
   "outputs": [
    {
     "data": {
      "text/html": [
       "<div>\n",
       "<style scoped>\n",
       "    .dataframe tbody tr th:only-of-type {\n",
       "        vertical-align: middle;\n",
       "    }\n",
       "\n",
       "    .dataframe tbody tr th {\n",
       "        vertical-align: top;\n",
       "    }\n",
       "\n",
       "    .dataframe thead th {\n",
       "        text-align: right;\n",
       "    }\n",
       "</style>\n",
       "<table border=\"1\" class=\"dataframe\">\n",
       "  <thead>\n",
       "    <tr style=\"text-align: right;\">\n",
       "      <th></th>\n",
       "      <th>name</th>\n",
       "      <th>address</th>\n",
       "      <th>price</th>\n",
       "      <th>review</th>\n",
       "      <th>description</th>\n",
       "    </tr>\n",
       "  </thead>\n",
       "  <tbody>\n",
       "    <tr>\n",
       "      <th>0</th>\n",
       "      <td>International School Of Madrid</td>\n",
       "      <td>Calle De Rosa Jardón 1, 28016, Madrid, Madrid</td>\n",
       "      <td>Más de 700€/mes</td>\n",
       "      <td>4.7 estrellas</td>\n",
       "      <td>Colegio Privado de Educación Infantil, Primari...</td>\n",
       "    </tr>\n",
       "    <tr>\n",
       "      <th>1</th>\n",
       "      <td>Highlands School El Encinar</td>\n",
       "      <td>Calle de San Enrique de Ossó 46, 28050, Madrid...</td>\n",
       "      <td>Más de 700€/mes</td>\n",
       "      <td>3.3 estrellas</td>\n",
       "      <td>Colegio Privado de Educación Infantil, Primari...</td>\n",
       "    </tr>\n",
       "    <tr>\n",
       "      <th>2</th>\n",
       "      <td>Alameda De Osuna</td>\n",
       "      <td>Paseo de la Alameda de Osuna 60, 28042, Madrid...</td>\n",
       "      <td>Entre 300€ y 700€/mes</td>\n",
       "      <td>3.5 estrellas</td>\n",
       "      <td>Colegio Privado de Educación Infantil, Primari...</td>\n",
       "    </tr>\n",
       "    <tr>\n",
       "      <th>3</th>\n",
       "      <td>Arcángel Rafael</td>\n",
       "      <td>Calle de Maqueda 4, 28024, Madrid, Madrid</td>\n",
       "      <td>Entre 300€ y 700€/mes</td>\n",
       "      <td>4.3 estrellas</td>\n",
       "      <td>Colegio Privado de Educación Infantil, Primari...</td>\n",
       "    </tr>\n",
       "    <tr>\n",
       "      <th>4</th>\n",
       "      <td>Everest</td>\n",
       "      <td>Urb. Monteclaro, 28223, Pozuelo de Alarcón, Ma...</td>\n",
       "      <td>Entre 300€ y 700€/mes</td>\n",
       "      <td>4.2 estrellas</td>\n",
       "      <td>Colegio Privado de Educación Infantil, Primari...</td>\n",
       "    </tr>\n",
       "  </tbody>\n",
       "</table>\n",
       "</div>"
      ],
      "text/plain": [
       "                             name  \\\n",
       "0  International School Of Madrid   \n",
       "1     Highlands School El Encinar   \n",
       "2                Alameda De Osuna   \n",
       "3                 Arcángel Rafael   \n",
       "4                         Everest   \n",
       "\n",
       "                                             address                  price  \\\n",
       "0      Calle De Rosa Jardón 1, 28016, Madrid, Madrid        Más de 700€/mes   \n",
       "1  Calle de San Enrique de Ossó 46, 28050, Madrid...        Más de 700€/mes   \n",
       "2  Paseo de la Alameda de Osuna 60, 28042, Madrid...  Entre 300€ y 700€/mes   \n",
       "3          Calle de Maqueda 4, 28024, Madrid, Madrid  Entre 300€ y 700€/mes   \n",
       "4  Urb. Monteclaro, 28223, Pozuelo de Alarcón, Ma...  Entre 300€ y 700€/mes   \n",
       "\n",
       "          review                                        description  \n",
       "0  4.7 estrellas  Colegio Privado de Educación Infantil, Primari...  \n",
       "1  3.3 estrellas  Colegio Privado de Educación Infantil, Primari...  \n",
       "2  3.5 estrellas  Colegio Privado de Educación Infantil, Primari...  \n",
       "3  4.3 estrellas  Colegio Privado de Educación Infantil, Primari...  \n",
       "4  4.2 estrellas  Colegio Privado de Educación Infantil, Primari...  "
      ]
     },
     "execution_count": 113,
     "metadata": {},
     "output_type": "execute_result"
    }
   ],
   "source": [
    "html = BeautifulSoup(driver.page_source)\n",
    "div_list = html.find_all('div',{'class':'advSearchResults'})\n",
    "info_list = [extract_info(div) for div in div_list]\n",
    "df = pd.DataFrame(info_list)\n",
    "df.head()"
   ]
  },
  {
   "cell_type": "code",
   "execution_count": 114,
   "metadata": {},
   "outputs": [
    {
     "data": {
      "text/plain": [
       "1786"
      ]
     },
     "execution_count": 114,
     "metadata": {},
     "output_type": "execute_result"
    }
   ],
   "source": [
    "# Aqui se hace esto por lo comentado anteriormente\n",
    "df[\"type\"] = \"Privado\""
   ]
  },
  {
   "cell_type": "code",
   "execution_count": 115,
   "metadata": {},
   "outputs": [
    {
     "data": {
      "text/plain": [
       "1786"
      ]
     },
     "execution_count": 115,
     "metadata": {},
     "output_type": "execute_result"
    }
   ],
   "source": [
    "df_joined = df_joined.append(df.drop_duplicates())\n",
    "len(df_joined)"
   ]
  },
  {
   "cell_type": "code",
   "execution_count": 116,
   "metadata": {},
   "outputs": [
    {
     "data": {
      "text/plain": [
       "array(['Publico', 'Concertado', 'Privado'], dtype=object)"
      ]
     },
     "execution_count": 116,
     "metadata": {},
     "output_type": "execute_result"
    }
   ],
   "source": [
    "df_joined.type.unique()"
   ]
  },
  {
   "cell_type": "code",
   "execution_count": 117,
   "metadata": {},
   "outputs": [],
   "source": [
    "df_joined.to_csv(\"./colegios_madrid.csv\")"
   ]
  }
 ],
 "metadata": {
  "kernelspec": {
   "display_name": "Python 3",
   "language": "python",
   "name": "python3"
  },
  "language_info": {
   "codemirror_mode": {
    "name": "ipython",
    "version": 3
   },
   "file_extension": ".py",
   "mimetype": "text/x-python",
   "name": "python",
   "nbconvert_exporter": "python",
   "pygments_lexer": "ipython3",
   "version": "3.8.5"
  }
 },
 "nbformat": 4,
 "nbformat_minor": 4
}
