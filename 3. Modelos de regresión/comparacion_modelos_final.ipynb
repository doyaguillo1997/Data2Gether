{
 "cells": [
  {
   "cell_type": "markdown",
   "source": [
    "# Datos"
   ],
   "metadata": {}
  },
  {
   "cell_type": "code",
   "execution_count": 1,
   "source": [
    "# General Purpose\r\n",
    "import pandas as pd\r\n",
    "import matplotlib.pyplot as plt\r\n",
    "import os\r\n",
    "import pickle\r\n",
    "\r\n",
    "# FE\r\n",
    "from CustomTransform import DistanceEncoder, SizeMeanEncoder, RangeEncoder, CustomKNNImputer\r\n",
    "from sklearn.preprocessing import OneHotEncoder\r\n",
    "from sklearn.compose import ColumnTransformer\r\n",
    "\r\n",
    "# Pipeline\r\n",
    "from sklearn.pipeline import Pipeline\r\n",
    "from sklearn.model_selection import KFold, cross_val_score\r\n",
    "from sklearn.preprocessing import MinMaxScaler, StandardScaler, RobustScaler\r\n",
    "\r\n",
    "# Models\r\n",
    "from sklearn.ensemble import RandomForestRegressor\r\n",
    "from sklearn.metrics import mean_absolute_percentage_error"
   ],
   "outputs": [],
   "metadata": {}
  },
  {
   "cell_type": "code",
   "execution_count": 2,
   "source": [
    "# Cargamos los datos\r\n",
    "dataTrain = pd.read_csv('depDataTrain_Arnau_20-08.csv')\r\n",
    "dataTest = pd.read_csv('depDataTest_Arnau_20-08.csv')"
   ],
   "outputs": [],
   "metadata": {}
  },
  {
   "cell_type": "code",
   "execution_count": 3,
   "source": [
    "dataTrain.head()"
   ],
   "outputs": [
    {
     "output_type": "execute_result",
     "data": {
      "text/html": [
       "<div>\n",
       "<style scoped>\n",
       "    .dataframe tbody tr th:only-of-type {\n",
       "        vertical-align: middle;\n",
       "    }\n",
       "\n",
       "    .dataframe tbody tr th {\n",
       "        vertical-align: top;\n",
       "    }\n",
       "\n",
       "    .dataframe thead th {\n",
       "        text-align: right;\n",
       "    }\n",
       "</style>\n",
       "<table border=\"1\" class=\"dataframe\">\n",
       "  <thead>\n",
       "    <tr style=\"text-align: right;\">\n",
       "      <th></th>\n",
       "      <th>ide_floor</th>\n",
       "      <th>ide_size</th>\n",
       "      <th>ide_price</th>\n",
       "      <th>ide_longitude</th>\n",
       "      <th>ide_latitude</th>\n",
       "      <th>his_quarterly_variation</th>\n",
       "      <th>his_price</th>\n",
       "      <th>his_monthly_variation</th>\n",
       "      <th>his_annual_variation</th>\n",
       "      <th>geo_distrito</th>\n",
       "      <th>...</th>\n",
       "      <th>dem_TamanoMedioDelHogar</th>\n",
       "      <th>dem_PropSinEstudiosUniversitarios</th>\n",
       "      <th>dem_PropSinEstudios</th>\n",
       "      <th>dem_Proporcion_de_nacidos_fuera_de_Espana</th>\n",
       "      <th>dem_PropConEstudiosUniversitarios</th>\n",
       "      <th>dem_PobTotal</th>\n",
       "      <th>dem_NumViviendas</th>\n",
       "      <th>dem_EdadMedia</th>\n",
       "      <th>dem_Densidad_(Habit/Ha)</th>\n",
       "      <th>fe_micole_weights</th>\n",
       "    </tr>\n",
       "  </thead>\n",
       "  <tbody>\n",
       "    <tr>\n",
       "      <th>0</th>\n",
       "      <td>3.0</td>\n",
       "      <td>141.0</td>\n",
       "      <td>990000.0</td>\n",
       "      <td>-3.656875</td>\n",
       "      <td>40.464347</td>\n",
       "      <td>2.2</td>\n",
       "      <td>3250</td>\n",
       "      <td>2.1</td>\n",
       "      <td>0.3</td>\n",
       "      <td>Hortaleza</td>\n",
       "      <td>...</td>\n",
       "      <td>2.527886</td>\n",
       "      <td>0.488949</td>\n",
       "      <td>0.175632</td>\n",
       "      <td>15.456193</td>\n",
       "      <td>0.335419</td>\n",
       "      <td>40838</td>\n",
       "      <td>16155.0</td>\n",
       "      <td>47.556540</td>\n",
       "      <td>161.894356</td>\n",
       "      <td>0.139147</td>\n",
       "    </tr>\n",
       "    <tr>\n",
       "      <th>1</th>\n",
       "      <td>2.0</td>\n",
       "      <td>159.0</td>\n",
       "      <td>940000.0</td>\n",
       "      <td>-3.703523</td>\n",
       "      <td>40.419427</td>\n",
       "      <td>1.4</td>\n",
       "      <td>5106</td>\n",
       "      <td>0.1</td>\n",
       "      <td>-4.3</td>\n",
       "      <td>Centro</td>\n",
       "      <td>...</td>\n",
       "      <td>1.975877</td>\n",
       "      <td>0.386598</td>\n",
       "      <td>0.083812</td>\n",
       "      <td>32.102460</td>\n",
       "      <td>0.529590</td>\n",
       "      <td>33418</td>\n",
       "      <td>16913.0</td>\n",
       "      <td>43.678945</td>\n",
       "      <td>352.500616</td>\n",
       "      <td>0.089744</td>\n",
       "    </tr>\n",
       "    <tr>\n",
       "      <th>2</th>\n",
       "      <td>NaN</td>\n",
       "      <td>92.0</td>\n",
       "      <td>549000.0</td>\n",
       "      <td>-3.669626</td>\n",
       "      <td>40.435362</td>\n",
       "      <td>0.6</td>\n",
       "      <td>4100</td>\n",
       "      <td>-0.2</td>\n",
       "      <td>-4.1</td>\n",
       "      <td>Salamanca</td>\n",
       "      <td>...</td>\n",
       "      <td>2.369951</td>\n",
       "      <td>0.365818</td>\n",
       "      <td>0.070351</td>\n",
       "      <td>18.224365</td>\n",
       "      <td>0.563831</td>\n",
       "      <td>42306</td>\n",
       "      <td>17851.0</td>\n",
       "      <td>46.477166</td>\n",
       "      <td>263.952286</td>\n",
       "      <td>0.105206</td>\n",
       "    </tr>\n",
       "    <tr>\n",
       "      <th>3</th>\n",
       "      <td>2.0</td>\n",
       "      <td>232.0</td>\n",
       "      <td>750000.0</td>\n",
       "      <td>-3.720619</td>\n",
       "      <td>40.424164</td>\n",
       "      <td>0.5</td>\n",
       "      <td>4773</td>\n",
       "      <td>0.3</td>\n",
       "      <td>-3.7</td>\n",
       "      <td>Moncloa - Aravaca</td>\n",
       "      <td>...</td>\n",
       "      <td>2.328217</td>\n",
       "      <td>0.343683</td>\n",
       "      <td>0.066403</td>\n",
       "      <td>20.963846</td>\n",
       "      <td>0.589914</td>\n",
       "      <td>24423</td>\n",
       "      <td>10490.0</td>\n",
       "      <td>46.972342</td>\n",
       "      <td>322.402577</td>\n",
       "      <td>0.083891</td>\n",
       "    </tr>\n",
       "    <tr>\n",
       "      <th>4</th>\n",
       "      <td>4.0</td>\n",
       "      <td>183.0</td>\n",
       "      <td>1550000.0</td>\n",
       "      <td>-3.705909</td>\n",
       "      <td>40.413214</td>\n",
       "      <td>-5.5</td>\n",
       "      <td>4739</td>\n",
       "      <td>-1.1</td>\n",
       "      <td>-5.3</td>\n",
       "      <td>Centro</td>\n",
       "      <td>...</td>\n",
       "      <td>1.994244</td>\n",
       "      <td>0.433750</td>\n",
       "      <td>0.082242</td>\n",
       "      <td>39.490947</td>\n",
       "      <td>0.484009</td>\n",
       "      <td>7622</td>\n",
       "      <td>3822.0</td>\n",
       "      <td>44.632774</td>\n",
       "      <td>171.165183</td>\n",
       "      <td>0.090978</td>\n",
       "    </tr>\n",
       "  </tbody>\n",
       "</table>\n",
       "<p>5 rows × 27 columns</p>\n",
       "</div>"
      ],
      "text/plain": [
       "   ide_floor  ide_size  ide_price  ide_longitude  ide_latitude  \\\n",
       "0        3.0     141.0   990000.0      -3.656875     40.464347   \n",
       "1        2.0     159.0   940000.0      -3.703523     40.419427   \n",
       "2        NaN      92.0   549000.0      -3.669626     40.435362   \n",
       "3        2.0     232.0   750000.0      -3.720619     40.424164   \n",
       "4        4.0     183.0  1550000.0      -3.705909     40.413214   \n",
       "\n",
       "   his_quarterly_variation  his_price  his_monthly_variation  \\\n",
       "0                      2.2       3250                    2.1   \n",
       "1                      1.4       5106                    0.1   \n",
       "2                      0.6       4100                   -0.2   \n",
       "3                      0.5       4773                    0.3   \n",
       "4                     -5.5       4739                   -1.1   \n",
       "\n",
       "   his_annual_variation       geo_distrito  ... dem_TamanoMedioDelHogar  \\\n",
       "0                   0.3          Hortaleza  ...                2.527886   \n",
       "1                  -4.3             Centro  ...                1.975877   \n",
       "2                  -4.1          Salamanca  ...                2.369951   \n",
       "3                  -3.7  Moncloa - Aravaca  ...                2.328217   \n",
       "4                  -5.3             Centro  ...                1.994244   \n",
       "\n",
       "   dem_PropSinEstudiosUniversitarios  dem_PropSinEstudios  \\\n",
       "0                           0.488949             0.175632   \n",
       "1                           0.386598             0.083812   \n",
       "2                           0.365818             0.070351   \n",
       "3                           0.343683             0.066403   \n",
       "4                           0.433750             0.082242   \n",
       "\n",
       "   dem_Proporcion_de_nacidos_fuera_de_Espana  \\\n",
       "0                                  15.456193   \n",
       "1                                  32.102460   \n",
       "2                                  18.224365   \n",
       "3                                  20.963846   \n",
       "4                                  39.490947   \n",
       "\n",
       "   dem_PropConEstudiosUniversitarios  dem_PobTotal  dem_NumViviendas  \\\n",
       "0                           0.335419         40838           16155.0   \n",
       "1                           0.529590         33418           16913.0   \n",
       "2                           0.563831         42306           17851.0   \n",
       "3                           0.589914         24423           10490.0   \n",
       "4                           0.484009          7622            3822.0   \n",
       "\n",
       "   dem_EdadMedia  dem_Densidad_(Habit/Ha)  fe_micole_weights  \n",
       "0      47.556540               161.894356           0.139147  \n",
       "1      43.678945               352.500616           0.089744  \n",
       "2      46.477166               263.952286           0.105206  \n",
       "3      46.972342               322.402577           0.083891  \n",
       "4      44.632774               171.165183           0.090978  \n",
       "\n",
       "[5 rows x 27 columns]"
      ]
     },
     "metadata": {},
     "execution_count": 3
    }
   ],
   "metadata": {}
  },
  {
   "cell_type": "code",
   "execution_count": 5,
   "source": [
    "dataTrain.columns"
   ],
   "outputs": [
    {
     "output_type": "execute_result",
     "data": {
      "text/plain": [
       "Index(['ide_floor', 'ide_size', 'ide_price', 'ide_longitude', 'ide_latitude',\n",
       "       'his_quarterly_variation', 'his_price', 'his_monthly_variation',\n",
       "       'his_annual_variation', 'geo_distrito', 'geo_barrio',\n",
       "       'fe_places_weights_imputed',\n",
       "       'dem_Indice_de_reemplazo_de_la_poblacion_activa',\n",
       "       'dem_Indice_de_juventud',\n",
       "       'dem_Indice_de_estructura_de_la_poblacion_activa',\n",
       "       'dem_Indice_de_dependencia', 'dem_TasaDeParo',\n",
       "       'dem_TamanoMedioDelHogar', 'dem_PropSinEstudiosUniversitarios',\n",
       "       'dem_PropSinEstudios', 'dem_Proporcion_de_nacidos_fuera_de_Espana',\n",
       "       'dem_PropConEstudiosUniversitarios', 'dem_PobTotal', 'dem_NumViviendas',\n",
       "       'dem_EdadMedia', 'dem_Densidad_(Habit/Ha)', 'fe_micole_weights'],\n",
       "      dtype='object')"
      ]
     },
     "metadata": {},
     "execution_count": 5
    }
   ],
   "metadata": {}
  },
  {
   "cell_type": "markdown",
   "source": [
    "# Modelado"
   ],
   "metadata": {}
  },
  {
   "cell_type": "code",
   "execution_count": 3,
   "source": [
    "# Train-Test target\r\n",
    "\r\n",
    "target = 'ide_price'\r\n",
    "\r\n",
    "y_train = dataTrain.pop(target)\r\n",
    "X_train = dataTrain\r\n",
    "\r\n",
    "y_test = dataTest.pop(target)\r\n",
    "X_test = dataTest"
   ],
   "outputs": [],
   "metadata": {}
  },
  {
   "cell_type": "markdown",
   "source": [
    "### Transformers"
   ],
   "metadata": {}
  },
  {
   "cell_type": "code",
   "execution_count": 4,
   "source": [
    "# Distance Encoder:\r\n",
    "distanceOrigin = [['sol', [40.414650, -3.700400]],\r\n",
    "                  ['nmi', [40.446278, -3.691814]],\r\n",
    "                  ['pca', [40.466070, -3.689280]]]\r\n",
    "distanceEncoderColumn = ['ide_latitude', 'ide_longitude']\r\n",
    "distanceEncoder = list()\r\n",
    "for i in range(3):\r\n",
    "    distanceEncoder.append(\r\n",
    "        DistanceEncoder('fe_distance_' + distanceOrigin[i][0], distanceEncoderColumn, distanceOrigin[i][1]))\r\n",
    "\r\n",
    "# Size Mean Encoder:\r\n",
    "sizeMeanEncoderColumn = 'ide_size'\r\n",
    "sizeMeanGroup = ['barrio', 'distrito']\r\n",
    "sizeMeanEncoders = list()\r\n",
    "for i in range(2):\r\n",
    "    sizeMeanEncoders.append(\r\n",
    "        SizeMeanEncoder('fe_mean_size_' + sizeMeanGroup[i], sizeMeanEncoderColumn, 'geo_' + sizeMeanGroup[i]))\r\n",
    "\r\n",
    "# Range Enconders:\r\n",
    "rangeEncoders = list()\r\n",
    "rangeEncoders.append(RangeEncoder('fe_latitude_bins', 'ide_latitude', 10))\r\n",
    "rangeEncoders.append(RangeEncoder('fe_longitude_bins', 'ide_longitude', 10))\r\n",
    "\r\n",
    "# Custom KNNImputer\r\n",
    "imputer = CustomKNNImputer(n_neighbors = 5, weights = 'distance')\r\n",
    "\r\n",
    "# Column Transformer for OneHotEncoder\r\n",
    "categorical_features = ['geo_distrito', 'geo_barrio', 'fe_latitude_bins', 'fe_longitude_bins']\r\n",
    "oneHotColumnTransformer = ColumnTransformer([\r\n",
    "    (\"oneHotEncoder\", OneHotEncoder(handle_unknown='ignore'),\r\n",
    "     categorical_features)\r\n",
    "], remainder = 'passthrough')"
   ],
   "outputs": [],
   "metadata": {}
  },
  {
   "cell_type": "markdown",
   "source": [
    "## Model Selection"
   ],
   "metadata": {}
  },
  {
   "cell_type": "code",
   "execution_count": 5,
   "source": [
    "\"\"\" Realizaremos un análisis de los siguientes modelos con las siguentes features \"\"\"\r\n",
    "\r\n",
    "seed = 42\r\n",
    "\r\n",
    "models = []\r\n",
    "\r\n",
    "models.append(('RFR1', RandomForestRegressor(n_estimators = 480,\r\n",
    "                                            max_depth = None,\r\n",
    "                                            max_features = 'auto',\r\n",
    "                                            min_samples_split = 2,\r\n",
    "                                            min_samples_leaf = 1,\r\n",
    "                                            n_jobs = -1,\r\n",
    "                                            random_state = 42)))\r\n",
    "\r\n",
    "models.append(('RFR2', RandomForestRegressor(n_estimators = 460,\r\n",
    "                                            max_depth = None,\r\n",
    "                                            max_features = 'auto',\r\n",
    "                                            min_samples_split = 2,\r\n",
    "                                            min_samples_leaf = 1,\r\n",
    "                                            n_jobs = -1,\r\n",
    "                                            random_state = 42)))"
   ],
   "outputs": [],
   "metadata": {}
  },
  {
   "cell_type": "code",
   "execution_count": 6,
   "source": [
    "metrics = []\r\n",
    "metrics.append(('MAPE','neg_mean_absolute_percentage_error'))"
   ],
   "outputs": [],
   "metadata": {}
  },
  {
   "cell_type": "code",
   "execution_count": 7,
   "source": [
    "\"\"\" Para plotear los resultados utilizaremos la siguiente función \"\"\"\r\n",
    "\r\n",
    "def boxplots_algorithms(results, names, metric, save_figure = False):\r\n",
    "    \r\n",
    "    if save_figure:\r\n",
    "        # Export images\r\n",
    "        if not os.path.exists(\"boxplots\"):\r\n",
    "            os.mkdir(\"boxplots\")\r\n",
    "        \r\n",
    "    plt.figure(figsize=(8,8))\r\n",
    "    plt.boxplot(results)\r\n",
    "    plt.xticks(range(1,len(names)+1), names)\r\n",
    "    plt.title(metric)\r\n",
    "    if save_figure:\r\n",
    "        plt.savefig('boxplots/' + metric + '.jpg', transparent = True)\r\n",
    "    plt.show() "
   ],
   "outputs": [],
   "metadata": {}
  },
  {
   "cell_type": "code",
   "execution_count": 8,
   "source": [
    "for metric, scoring in metrics:\r\n",
    "    results = []\r\n",
    "    names = []\r\n",
    "    for name, model in models:\r\n",
    "\r\n",
    "        pipeline = Pipeline([('Encoder1', distanceEncoder[0]),\r\n",
    "                             ('Encoder2', distanceEncoder[1]),\r\n",
    "                             ('Encoder3', distanceEncoder[2]),\r\n",
    "                             ('Encoder4', sizeMeanEncoders[0]),\r\n",
    "                             ('Encoder5', sizeMeanEncoders[1]),\r\n",
    "                             ('Encoder6', rangeEncoders[0]),\r\n",
    "                             ('Encoder7', rangeEncoders[1]),\r\n",
    "                             ('Imputer1', imputer),\r\n",
    "                             ('Encoder8', oneHotColumnTransformer),\r\n",
    "                            # ('scaler', RobustScaler(with_centering = False)), # False for sparse matrix\r\n",
    "                             ('Model', model)])\r\n",
    "\r\n",
    "        cv_technique = KFold(n_splits=4, shuffle=True, random_state=seed)\r\n",
    "        cv_results = cross_val_score(pipeline,           # Pipeline\r\n",
    "                                     X_train,           # Feature matrix\r\n",
    "                                     y_train,             # Target vector\r\n",
    "                                     cv=cv_technique,    # Cross-validation technique\r\n",
    "                                     scoring=scoring, # scoring\r\n",
    "                                     n_jobs = -1) \r\n",
    "\r\n",
    "        msg = \"%s: %f (%f)\" % (name, cv_results.mean(), cv_results.std())\r\n",
    "        print(msg)\r\n",
    "\r\n",
    "        results.append(cv_results)\r\n",
    "        names.append(name)\r\n",
    "\r\n",
    "    boxplots_algorithms(results, names, metric, save_figure = False)"
   ],
   "outputs": [
    {
     "output_type": "stream",
     "name": "stdout",
     "text": [
      "RFR1: -0.169001 (0.001359)\n",
      "RFR2: -0.169014 (0.001347)\n"
     ]
    },
    {
     "output_type": "display_data",
     "data": {
      "image/png": "[encoded data removed]",
      "text/plain": [
       "<Figure size 576x576 with 1 Axes>"
      ]
     },
     "metadata": {
      "needs_background": "light"
     }
    }
   ],
   "metadata": {}
  },
  {
   "cell_type": "markdown",
   "source": [
    "### Evaluación TEST con MAPE"
   ],
   "metadata": {}
  },
  {
   "cell_type": "code",
   "execution_count": 9,
   "source": [
    "for name, model in models:\r\n",
    "\r\n",
    "    pipeline = Pipeline([('Encoder1', distanceEncoder[0]),\r\n",
    "                         ('Encoder2', distanceEncoder[1]),\r\n",
    "                         ('Encoder3', distanceEncoder[2]),\r\n",
    "                         ('Encoder4', sizeMeanEncoders[0]),\r\n",
    "                         ('Encoder5', sizeMeanEncoders[1]),\r\n",
    "                         ('Encoder6', rangeEncoders[0]),\r\n",
    "                         ('Encoder7', rangeEncoders[1]),\r\n",
    "                         ('Imputer1', imputer),\r\n",
    "                         ('Encoder8', oneHotColumnTransformer),\r\n",
    "                        # ('scaler', RobustScaler(with_centering = False)), # False for sparse matrix\r\n",
    "                         ('Model', model)])\r\n",
    "\r\n",
    "    pipeline.fit(X_train, y_train)\r\n",
    "    dataTest_y_PRED = pipeline.predict(X_test)\r\n",
    "\r\n",
    "    mape = mean_absolute_percentage_error(y_test, dataTest_y_PRED)\r\n",
    "\r\n",
    "    msg = \"%s: %f\" % (name, mape)\r\n",
    "    print(msg)"
   ],
   "outputs": [
    {
     "output_type": "stream",
     "name": "stdout",
     "text": [
      "RFR1: 0.164048\n",
      "RFR2: 0.163976\n"
     ]
    }
   ],
   "metadata": {}
  }
 ],
 "metadata": {
  "kernelspec": {
   "name": "python3",
   "display_name": "Python 3.9.6 64-bit"
  },
  "language_info": {
   "codemirror_mode": {
    "name": "ipython",
    "version": 3
   },
   "file_extension": ".py",
   "mimetype": "text/x-python",
   "name": "python",
   "nbconvert_exporter": "python",
   "pygments_lexer": "ipython3",
   "version": "3.9.6"
  },
  "interpreter": {
   "hash": "c31bd3aaf3cabf898e21ad86866868d6c6b3c146b2cc055d0fb2d23e1bcb1d5a"
  }
 },
 "nbformat": 4,
 "nbformat_minor": 5
}