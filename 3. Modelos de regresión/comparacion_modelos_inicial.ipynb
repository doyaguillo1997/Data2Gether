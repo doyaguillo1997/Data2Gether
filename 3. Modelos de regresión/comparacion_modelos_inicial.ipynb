{
 "cells": [
  {
   "cell_type": "markdown",
   "source": [
    "# Datos"
   ],
   "metadata": {}
  },
  {
   "cell_type": "code",
   "execution_count": 1,
   "source": [
    "# General Purpose\r\n",
    "import pandas as pd\r\n",
    "import matplotlib.pyplot as plt\r\n",
    "import os\r\n",
    "\r\n",
    "# Data access\r\n",
    "from dataAccess import aws_df_from_S3_csv\r\n",
    "\r\n",
    "# FE\r\n",
    "from CustomTransform import DistanceEncoder, SizeMeanEncoder, RangeEncoder, CustomKNNImputer\r\n",
    "from sklearn.preprocessing import OneHotEncoder\r\n",
    "from sklearn.compose import ColumnTransformer\r\n",
    "\r\n",
    "# Pipeline\r\n",
    "from sklearn.pipeline import Pipeline\r\n",
    "from sklearn.model_selection import KFold, cross_val_score\r\n",
    "from sklearn.preprocessing import MinMaxScaler, StandardScaler, RobustScaler\r\n",
    "\r\n",
    "# Modelos\r\n",
    "from sklearn.linear_model import LinearRegression, Lasso\r\n",
    "from sklearn.ensemble import RandomForestRegressor, GradientBoostingRegressor, VotingRegressor\r\n",
    "from sklearn.neighbors import KNeighborsRegressor\r\n",
    "from sklearn.tree import DecisionTreeRegressor\r\n",
    "from xgboost.sklearn import XGBModel as xgb"
   ],
   "outputs": [],
   "metadata": {}
  },
  {
   "cell_type": "code",
   "execution_count": 2,
   "source": [
    "# Cargamos los datos\r\n",
    " \r\n",
    "# dataTrain = awsFunctions.aws_df_from_S3_csv(file = \"04-2021/datos-dep/depDataTrain_Arnau_20-08.csv\", bucket = 'datos-viviendas')\r\n",
    "dataTrain = pd.read_csv('depDataTrain_Arnau_20-08.csv')"
   ],
   "outputs": [],
   "metadata": {}
  },
  {
   "cell_type": "markdown",
   "source": [
    "# Modelado"
   ],
   "metadata": {}
  },
  {
   "cell_type": "code",
   "execution_count": 3,
   "source": [
    "target = 'ide_price'\r\n",
    "\r\n",
    "y_train = dataTrain.pop(target)\r\n",
    "X_train = dataTrain"
   ],
   "outputs": [],
   "metadata": {}
  },
  {
   "cell_type": "markdown",
   "source": [
    "### Transformers"
   ],
   "metadata": {}
  },
  {
   "cell_type": "code",
   "execution_count": 4,
   "source": [
    "# Distance Encoder:\r\n",
    "distanceOrigin = [['sol', [40.414650, -3.700400]],\r\n",
    "                  ['nmi', [40.446278, -3.691814]],\r\n",
    "                  ['pca', [40.466070, -3.689280]]]\r\n",
    "distanceEncoderColumn = ['ide_latitude', 'ide_longitude']\r\n",
    "distanceEncoder = list()\r\n",
    "for i in range(3):\r\n",
    "    distanceEncoder.append(\r\n",
    "        DistanceEncoder('fe_distance_' + distanceOrigin[i][0], distanceEncoderColumn, distanceOrigin[i][1]))\r\n",
    "\r\n",
    "# Size Mean Encoder:\r\n",
    "sizeMeanEncoderColumn = 'ide_size'\r\n",
    "sizeMeanGroup = ['barrio', 'distrito']\r\n",
    "sizeMeanEncoders = list()\r\n",
    "for i in range(2):\r\n",
    "    sizeMeanEncoders.append(\r\n",
    "        SizeMeanEncoder('fe_mean_size_' + sizeMeanGroup[i], sizeMeanEncoderColumn, 'geo_' + sizeMeanGroup[i]))\r\n",
    "\r\n",
    "# Range Enconders:\r\n",
    "rangeEncoders = list()\r\n",
    "rangeEncoders.append(RangeEncoder('fe_latitude_bins', 'ide_latitude', 10))\r\n",
    "rangeEncoders.append(RangeEncoder('fe_longitude_bins', 'ide_longitude', 10))\r\n",
    "\r\n",
    "# Custom KNNImputer\r\n",
    "imputer = CustomKNNImputer(n_neighbors = 5, weights = 'distance')\r\n",
    "\r\n",
    "# Column Transformer for OneHotEncoder\r\n",
    "categorical_features = ['geo_distrito', 'geo_barrio', 'fe_latitude_bins', 'fe_longitude_bins']\r\n",
    "oneHotColumnTransformer = ColumnTransformer([\r\n",
    "    (\"oneHotEncoder\", OneHotEncoder(handle_unknown='ignore'),\r\n",
    "     categorical_features)\r\n",
    "], remainder = 'passthrough')"
   ],
   "outputs": [],
   "metadata": {}
  },
  {
   "cell_type": "markdown",
   "source": [
    "## Model Selection"
   ],
   "metadata": {}
  },
  {
   "cell_type": "code",
   "execution_count": 5,
   "source": [
    "\"\"\" Realizaremos un análisis de los siguientes modelos con las siguentes features \"\"\"\r\n",
    "\r\n",
    "seed = 42\r\n",
    "\r\n",
    "models = []\r\n",
    "models.append(('LR', LinearRegression()))\r\n",
    "models.append(('Lasso', Lasso(alpha=0.1,random_state=seed)))\r\n",
    "models.append(('DTR', DecisionTreeRegressor(random_state=seed)))\r\n",
    "models.append(('KNR', KNeighborsRegressor()))\r\n",
    "models.append(('RFR', RandomForestRegressor(random_state=seed, n_jobs = -1)))\r\n",
    "models.append(('GBR', GradientBoostingRegressor(random_state=seed)))\r\n",
    "models.append(('XGB', xgb(random_state=seed)))\r\n",
    "\r\n",
    "# Ensamblado\r\n",
    "reg1 = RandomForestRegressor(random_state=seed, n_jobs = -1)\r\n",
    "reg2 = GradientBoostingRegressor(random_state=seed)\r\n",
    "reg3 = KNeighborsRegressor()\r\n",
    "models.append(('VR', VotingRegressor(estimators=[('rf', reg1), ('gb', reg2), ('kn', reg3)])))"
   ],
   "outputs": [],
   "metadata": {}
  },
  {
   "cell_type": "code",
   "execution_count": 6,
   "source": [
    "metrics = []\r\n",
    "metrics.append(('MAPE','neg_mean_absolute_percentage_error'))\r\n",
    "metrics.append(('MAE','neg_mean_absolute_error'))\r\n",
    "metrics.append(('MSE','neg_mean_absolute_percentage_error'))\r\n",
    "metrics.append(('RMSE','neg_root_mean_squared_error'))\r\n",
    "metrics.append(('R2','r2'))"
   ],
   "outputs": [],
   "metadata": {}
  },
  {
   "cell_type": "code",
   "execution_count": 7,
   "source": [
    "\"\"\" Para plotear los resultados utilizaremos la siguiente función \"\"\"\r\n",
    "\r\n",
    "def boxplots_algorithms(results, names, metric):\r\n",
    "    \r\n",
    "    # Export images\r\n",
    "    if not os.path.exists(\"boxplots\"):\r\n",
    "        os.mkdir(\"boxplots\")\r\n",
    "        \r\n",
    "    plt.figure(figsize=(8,8))\r\n",
    "    plt.boxplot(results)\r\n",
    "    plt.xticks(range(1,len(names)+1), names)\r\n",
    "    plt.title(metric)\r\n",
    "    plt.savefig('boxplots/' + metric + '.jpg', transparent = True)\r\n",
    "    plt.show() "
   ],
   "outputs": [],
   "metadata": {}
  },
  {
   "cell_type": "code",
   "execution_count": 8,
   "source": [
    "for metric, scoring in metrics:\r\n",
    "    results = []\r\n",
    "    names = []\r\n",
    "    for name, model in models:\r\n",
    "\r\n",
    "        pipeline = Pipeline([('Encoder1', distanceEncoder[0]),\r\n",
    "                             ('Encoder2', distanceEncoder[1]),\r\n",
    "                             ('Encoder3', distanceEncoder[2]),\r\n",
    "                             ('Encoder4', sizeMeanEncoders[0]),\r\n",
    "                             ('Encoder5', sizeMeanEncoders[1]),\r\n",
    "                             ('Encoder6', rangeEncoders[0]),\r\n",
    "                             ('Encoder7', rangeEncoders[1]),\r\n",
    "                             ('Imputer1', imputer),\r\n",
    "                             ('Encoder8', oneHotColumnTransformer),\r\n",
    "                             ('scaler', RobustScaler(with_centering = False)), # False for sparse matrix\r\n",
    "                             ('Model', model)])\r\n",
    "\r\n",
    "        cv_technique = KFold(n_splits=4, shuffle=True, random_state=seed)\r\n",
    "        cv_results = cross_val_score(pipeline,           # Pipeline\r\n",
    "                                     X_train,           # Feature matrix\r\n",
    "                                     y_train,             # Target vector\r\n",
    "                                     cv=cv_technique,    # Cross-validation technique\r\n",
    "                                     scoring=scoring, # scoring\r\n",
    "                                     n_jobs = -1) \r\n",
    "\r\n",
    "        msg = \"%s: %f (%f)\" % (name, cv_results.mean(), cv_results.std())\r\n",
    "        print(msg)\r\n",
    "\r\n",
    "        results.append(cv_results)\r\n",
    "        names.append(name)\r\n",
    "\r\n",
    "    boxplots_algorithms(results, names, metric)"
   ],
   "outputs": [
    {
     "output_type": "stream",
     "name": "stdout",
     "text": [
      "DTR: -0.219840 (0.004584)\n",
      "KNR: -0.213647 (0.002972)\n",
      "RFR: -0.169604 (0.001447)\n",
      "GBR: -0.213156 (0.002225)\n",
      "XGB: -0.184858 (0.001684)\n",
      "VR: -0.180796 (0.000573)\n"
     ]
    },
    {
     "output_type": "display_data",
     "data": {
      "image/png": "[encoded data removed]",
      "text/plain": [
       "<Figure size 576x576 with 1 Axes>"
      ]
     },
     "metadata": {
      "needs_background": "light"
     }
    },
    {
     "output_type": "stream",
     "name": "stdout",
     "text": [
      "DTR: -0.219840 (0.004584)\n",
      "KNR: -0.213647 (0.002972)\n",
      "RFR: -0.169604 (0.001447)\n",
      "GBR: -0.213156 (0.002225)\n",
      "XGB: -0.184858 (0.001684)\n",
      "VR: -0.180796 (0.000573)\n"
     ]
    },
    {
     "output_type": "display_data",
     "data": {
      "image/png": "[encoded data removed]",
      "text/plain": [
       "<Figure size 576x576 with 1 Axes>"
      ]
     },
     "metadata": {
      "needs_background": "light"
     }
    }
   ],
   "metadata": {}
  },
  {
   "cell_type": "code",
   "execution_count": null,
   "source": [],
   "outputs": [],
   "metadata": {}
  }
 ],
 "metadata": {
  "kernelspec": {
   "display_name": "Python 3",
   "language": "python",
   "name": "python3"
  },
  "language_info": {
   "codemirror_mode": {
    "name": "ipython",
    "version": 3
   },
   "file_extension": ".py",
   "mimetype": "text/x-python",
   "name": "python",
   "nbconvert_exporter": "python",
   "pygments_lexer": "ipython3",
   "version": "3.7.10"
  }
 },
 "nbformat": 4,
 "nbformat_minor": 5
}