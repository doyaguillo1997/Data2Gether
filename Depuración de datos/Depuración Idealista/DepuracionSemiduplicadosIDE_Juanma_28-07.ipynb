{
 "cells": [
  {
   "cell_type": "markdown",
   "source": [
    "# DEPURACIÓN SEMIDUPLICADOS IDEALISTA"
   ],
   "metadata": {
    "id": "1z8tf7PDKxTC"
   }
  },
  {
   "cell_type": "code",
   "execution_count": null,
   "source": [
    "# Librerias\r\n",
    "import pandas as pd"
   ],
   "outputs": [],
   "metadata": {
    "id": "fi7Rwqr9q5ao"
   }
  },
  {
   "cell_type": "code",
   "execution_count": null,
   "source": [
    "# Cargamos los datos\r\n",
    "path = \"Madrid_Idealista_Variable_Seleccionadas.csv\"\r\n",
    "dataset = pd.read_csv(path)\r\n",
    "dataset.head()"
   ],
   "outputs": [
    {
     "output_type": "execute_result",
     "data": {
      "text/html": [
       "<div>\n",
       "<style scoped>\n",
       "    .dataframe tbody tr th:only-of-type {\n",
       "        vertical-align: middle;\n",
       "    }\n",
       "\n",
       "    .dataframe tbody tr th {\n",
       "        vertical-align: top;\n",
       "    }\n",
       "\n",
       "    .dataframe thead th {\n",
       "        text-align: right;\n",
       "    }\n",
       "</style>\n",
       "<table border=\"1\" class=\"dataframe\">\n",
       "  <thead>\n",
       "    <tr style=\"text-align: right;\">\n",
       "      <th></th>\n",
       "      <th>Unnamed: 0</th>\n",
       "      <th>floor</th>\n",
       "      <th>price</th>\n",
       "      <th>propertyType</th>\n",
       "      <th>size</th>\n",
       "      <th>address</th>\n",
       "      <th>district</th>\n",
       "      <th>neighborhood</th>\n",
       "      <th>latitude</th>\n",
       "      <th>longitude</th>\n",
       "      <th>showAddress</th>\n",
       "      <th>hasParking</th>\n",
       "      <th>parkingIncludedInPrice</th>\n",
       "      <th>parkingPrice</th>\n",
       "    </tr>\n",
       "  </thead>\n",
       "  <tbody>\n",
       "    <tr>\n",
       "      <th>0</th>\n",
       "      <td>0</td>\n",
       "      <td>bj</td>\n",
       "      <td>130000.0</td>\n",
       "      <td>flat</td>\n",
       "      <td>68.0</td>\n",
       "      <td>Calle De Silvio Abad</td>\n",
       "      <td>Usera</td>\n",
       "      <td>Zofío</td>\n",
       "      <td>40.379115</td>\n",
       "      <td>-3.714212</td>\n",
       "      <td>False</td>\n",
       "      <td>True</td>\n",
       "      <td>True</td>\n",
       "      <td>0.0</td>\n",
       "    </tr>\n",
       "    <tr>\n",
       "      <th>1</th>\n",
       "      <td>1</td>\n",
       "      <td>4</td>\n",
       "      <td>135000.0</td>\n",
       "      <td>flat</td>\n",
       "      <td>73.0</td>\n",
       "      <td>Calle de la Via</td>\n",
       "      <td>Carabanchel</td>\n",
       "      <td>Opañel</td>\n",
       "      <td>40.387897</td>\n",
       "      <td>-3.724639</td>\n",
       "      <td>False</td>\n",
       "      <td>False</td>\n",
       "      <td>False</td>\n",
       "      <td>0.0</td>\n",
       "    </tr>\n",
       "    <tr>\n",
       "      <th>2</th>\n",
       "      <td>2</td>\n",
       "      <td>1</td>\n",
       "      <td>95000.0</td>\n",
       "      <td>duplex</td>\n",
       "      <td>40.0</td>\n",
       "      <td>Calle Blasón</td>\n",
       "      <td>Carabanchel</td>\n",
       "      <td>Puerta Bonita</td>\n",
       "      <td>40.382783</td>\n",
       "      <td>-3.739771</td>\n",
       "      <td>False</td>\n",
       "      <td>False</td>\n",
       "      <td>False</td>\n",
       "      <td>0.0</td>\n",
       "    </tr>\n",
       "    <tr>\n",
       "      <th>3</th>\n",
       "      <td>3</td>\n",
       "      <td>1</td>\n",
       "      <td>114900.0</td>\n",
       "      <td>flat</td>\n",
       "      <td>51.0</td>\n",
       "      <td>Calle de Isabel Baeza</td>\n",
       "      <td>Carabanchel</td>\n",
       "      <td>Puerta Bonita</td>\n",
       "      <td>40.382663</td>\n",
       "      <td>-3.728994</td>\n",
       "      <td>False</td>\n",
       "      <td>False</td>\n",
       "      <td>False</td>\n",
       "      <td>0.0</td>\n",
       "    </tr>\n",
       "    <tr>\n",
       "      <th>4</th>\n",
       "      <td>4</td>\n",
       "      <td>3</td>\n",
       "      <td>134900.0</td>\n",
       "      <td>flat</td>\n",
       "      <td>64.0</td>\n",
       "      <td>Calle del Arroyo Opañel</td>\n",
       "      <td>Carabanchel</td>\n",
       "      <td>Opañel</td>\n",
       "      <td>40.389066</td>\n",
       "      <td>-3.721247</td>\n",
       "      <td>False</td>\n",
       "      <td>False</td>\n",
       "      <td>False</td>\n",
       "      <td>0.0</td>\n",
       "    </tr>\n",
       "  </tbody>\n",
       "</table>\n",
       "</div>"
      ],
      "text/plain": [
       "   Unnamed: 0 floor     price  ... hasParking  parkingIncludedInPrice parkingPrice\n",
       "0           0    bj  130000.0  ...       True                    True          0.0\n",
       "1           1     4  135000.0  ...      False                   False          0.0\n",
       "2           2     1   95000.0  ...      False                   False          0.0\n",
       "3           3     1  114900.0  ...      False                   False          0.0\n",
       "4           4     3  134900.0  ...      False                   False          0.0\n",
       "\n",
       "[5 rows x 14 columns]"
      ]
     },
     "metadata": {
      "tags": []
     },
     "execution_count": 13
    }
   ],
   "metadata": {
    "colab": {
     "base_uri": "https://localhost:8080/",
     "height": 391
    },
    "id": "867NTbq5FMe7",
    "outputId": "55bb50e7-67df-4765-ff6e-62b258c9f075"
   }
  },
  {
   "cell_type": "code",
   "execution_count": null,
   "source": [
    "# Columnas:\r\n",
    "dataset.columns"
   ],
   "outputs": [
    {
     "output_type": "execute_result",
     "data": {
      "text/plain": [
       "Index(['Unnamed: 0', 'floor', 'price', 'propertyType', 'size', 'address',\n",
       "       'district', 'neighborhood', 'latitude', 'longitude', 'showAddress',\n",
       "       'hasParking', 'parkingIncludedInPrice', 'parkingPrice'],\n",
       "      dtype='object')"
      ]
     },
     "metadata": {
      "tags": []
     },
     "execution_count": 14
    }
   ],
   "metadata": {
    "colab": {
     "base_uri": "https://localhost:8080/"
    },
    "id": "Fjz22XFJjZFQ",
    "outputId": "aa06875e-bd9c-4119-d23e-42024eb25af9"
   }
  },
  {
   "cell_type": "code",
   "execution_count": null,
   "source": [
    "# Número de registros que contiene el dataset.\r\n",
    "print(\"El dataset contiene un total de {} documentos.\\n\".format(len(dataset)))\r\n",
    "# Número de duplicados (todas las categorías menos el precio).\r\n",
    "print(\"Existen {} registros duplicados.\\n\".format(dataset.duplicated(subset=['floor', 'propertyType', 'size', 'address',\r\n",
    "                                                                             'district', 'neighborhood', 'latitude', 'longitude', 'showAddress',\r\n",
    "                                                                             'hasParking', 'parkingIncludedInPrice', 'parkingPrice']).sum()))"
   ],
   "outputs": [
    {
     "output_type": "stream",
     "name": "stdout",
     "text": [
      "El dataset contiene un total de 18905 documentos.\n",
      "\n",
      "Existen 155 registros duplicados.\n",
      "\n"
     ]
    }
   ],
   "metadata": {
    "colab": {
     "base_uri": "https://localhost:8080/"
    },
    "id": "jayE4ANwFMbH",
    "outputId": "9e025684-70d3-4dac-c404-85ee90456957"
   }
  },
  {
   "cell_type": "code",
   "execution_count": null,
   "source": [
    "# Se eliminan los duplicados:\r\n",
    "dataset = dataset.drop_duplicates(subset=['floor', 'propertyType', 'size', 'address',\r\n",
    "                                          'district', 'neighborhood', 'latitude', 'longitude', 'showAddress',\r\n",
    "                                          'hasParking', 'parkingIncludedInPrice', 'parkingPrice'])\r\n",
    "# Se comprueba que se han eliminado dichos duplicados:\r\n",
    "print(\"Existen {} registros duplicados.\\n\".format(dataset.duplicated(subset=['floor', 'propertyType', 'size', 'address',\r\n",
    "                                                                             'district', 'neighborhood', 'latitude', 'longitude', 'showAddress',\r\n",
    "                                                                             'hasParking', 'parkingIncludedInPrice', 'parkingPrice']).sum()))"
   ],
   "outputs": [
    {
     "output_type": "stream",
     "name": "stdout",
     "text": [
      "Existen 0 registros duplicados.\n",
      "\n"
     ]
    }
   ],
   "metadata": {
    "colab": {
     "base_uri": "https://localhost:8080/"
    },
    "id": "KkiqsEfXFMVF",
    "outputId": "9fededb5-e344-44b7-94e6-6583b8e480ea"
   }
  },
  {
   "cell_type": "code",
   "execution_count": null,
   "source": [
    "# Se guarda el dataset:\r\n",
    "dataset.to_csv(\"madrid_idealista_depurado.csv\")"
   ],
   "outputs": [],
   "metadata": {
    "id": "zZHwVC0blrEC"
   }
  }
 ],
 "metadata": {
  "colab": {
   "collapsed_sections": [],
   "name": "depuracion_semiduplicados_idealista.ipynb",
   "provenance": []
  },
  "kernelspec": {
   "display_name": "Python 3",
   "language": "python",
   "name": "python3"
  },
  "language_info": {
   "codemirror_mode": {
    "name": "ipython",
    "version": 3
   },
   "file_extension": ".py",
   "mimetype": "text/x-python",
   "name": "python",
   "nbconvert_exporter": "python",
   "pygments_lexer": "ipython3",
   "version": "3.8.5"
  }
 },
 "nbformat": 4,
 "nbformat_minor": 4
}