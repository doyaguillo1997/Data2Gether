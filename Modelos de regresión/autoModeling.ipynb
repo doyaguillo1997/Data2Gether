{
 "cells": [
  {
   "cell_type": "code",
   "execution_count": 1,
   "source": [
    "# General Purpose\r\n",
    "import matplotlib.pyplot as plt\r\n",
    "import numpy as np\r\n",
    "import pandas as pd\r\n",
    "import pickle\r\n",
    "\r\n",
    "from tqdm import tqdm\r\n",
    "from tqdm import tqdm_notebook\r\n",
    "from tqdm import tqdm_pandas\r\n",
    "import timeit\r\n",
    "\r\n",
    "# Data access\r\n",
    "from dataAccess import aws_df_from_S3_csv\r\n",
    "\r\n",
    "# FE\r\n",
    "from CustomTransform import DistanceEncoder, SizeMeanEncoder, RangeEncoder, CustomKNNImputer\r\n",
    "from sklearn.preprocessing import OneHotEncoder\r\n",
    "from sklearn.compose import ColumnTransformer\r\n",
    "\r\n",
    "# Pipeline\r\n",
    "from sklearn.pipeline import Pipeline\r\n",
    "\r\n",
    "# Models\r\n",
    "from sklearn.ensemble import RandomForestRegressor\r\n",
    "from xgboost import XGBRegressor\r\n",
    "\r\n",
    "# Evaluation\r\n",
    "from sklearn.metrics import accuracy_score, confusion_matrix\r\n",
    "from sklearn.model_selection import KFold, cross_val_score\r\n",
    "from auxModelFunctions import createCenteredGridSearch, modelEvaluate, bestModel"
   ],
   "outputs": [],
   "metadata": {
    "tags": []
   }
  },
  {
   "cell_type": "markdown",
   "source": [
    "## Lectura de los datos y agregados previos (mi cole y restaurantes)"
   ],
   "metadata": {
    "pycharm": {
     "name": "#%% md\n"
    }
   }
  },
  {
   "cell_type": "code",
   "execution_count": 2,
   "source": [
    "# Cargamos los datos\r\n",
    "\r\n",
    "#dataTrain = aws_df_from_S3_csv(file = \"04-2021/datos-dep/depDataTrain_Arnau_20-08.csv\", bucket = 'datos-viviendas')\r\n",
    "#dataTest = aws_df_from_S3_csv(file = \"04-2021/datos-dep/depDataTest_Arnau_20-08.csv\", bucket = 'datos-viviendas')\r\n",
    "\r\n",
    "dataTrain = pd.read_csv('depDataTrain_Arnau_20-08.csv')\r\n",
    "dataTest = pd.read_csv('depDataTest_Arnau_20-08.csv')"
   ],
   "outputs": [],
   "metadata": {
    "collapsed": false,
    "jupyter": {
     "outputs_hidden": false
    },
    "pycharm": {
     "name": "#%%\n"
    }
   }
  },
  {
   "cell_type": "code",
   "execution_count": 3,
   "source": [
    "# Train-Test target\r\n",
    "\r\n",
    "target = 'ide_price'\r\n",
    "\r\n",
    "y_train = dataTrain.pop(target)\r\n",
    "X_train = dataTrain\r\n",
    "\r\n",
    "y_test = dataTest.pop(target)\r\n",
    "X_test = dataTest"
   ],
   "outputs": [],
   "metadata": {
    "collapsed": false,
    "jupyter": {
     "outputs_hidden": false
    },
    "pycharm": {
     "name": "#%%\n"
    }
   }
  },
  {
   "cell_type": "markdown",
   "source": [
    "## Definición de los columns transformers\n",
    "\n",
    "En el siguiente apartado definimos todos los transformers que sean necesarios antes de crear el pipeline"
   ],
   "metadata": {
    "pycharm": {
     "name": "#%% md\n"
    }
   }
  },
  {
   "cell_type": "code",
   "execution_count": 4,
   "source": [
    "# Distance Encoder:\r\n",
    "distanceOrigin = [['sol', [40.414650, -3.700400]],\r\n",
    "                  ['nmi', [40.446278, -3.691814]],\r\n",
    "                  ['pca', [40.466070, -3.689280]]]\r\n",
    "distanceEncoderColumn = ['ide_latitude', 'ide_longitude']\r\n",
    "distanceEncoder = list()\r\n",
    "for i in range(3):\r\n",
    "    distanceEncoder.append(\r\n",
    "        DistanceEncoder('fe_distance_' + distanceOrigin[i][0], distanceEncoderColumn, distanceOrigin[i][1]))\r\n",
    "\r\n",
    "# Size Mean Encoder:\r\n",
    "sizeMeanEncoderColumn = 'ide_size'\r\n",
    "sizeMeanGroup = ['barrio', 'distrito']\r\n",
    "sizeMeanEncoders = list()\r\n",
    "for i in range(2):\r\n",
    "    sizeMeanEncoders.append(\r\n",
    "        SizeMeanEncoder('fe_mean_size_' + sizeMeanGroup[i], sizeMeanEncoderColumn, 'geo_' + sizeMeanGroup[i]))\r\n",
    "\r\n",
    "# Range Enconders:\r\n",
    "rangeEncoders = list()\r\n",
    "rangeEncoders.append(RangeEncoder('fe_latitude_bins', 'ide_latitude', 10))\r\n",
    "rangeEncoders.append(RangeEncoder('fe_longitude_bins', 'ide_longitude', 10))\r\n",
    "\r\n",
    "# Custom KNNImputer\r\n",
    "imputer = CustomKNNImputer(n_neighbors = 5, weights = 'distance')\r\n",
    "\r\n",
    "# Column Transformer for OneHotEncoder\r\n",
    "categorical_features = ['geo_distrito', 'geo_barrio', 'fe_latitude_bins', 'fe_longitude_bins']\r\n",
    "oneHotColumnTransformer = ColumnTransformer([\r\n",
    "    (\"oneHotEncoder\", OneHotEncoder(handle_unknown='ignore'),\r\n",
    "     categorical_features)\r\n",
    "], remainder = 'passthrough')"
   ],
   "outputs": [],
   "metadata": {
    "collapsed": false,
    "jupyter": {
     "outputs_hidden": false
    },
    "pycharm": {
     "name": "#%%\n"
    }
   }
  },
  {
   "cell_type": "markdown",
   "source": [
    "## Instanciación de las clases de los modelos"
   ],
   "metadata": {
    "pycharm": {
     "name": "#%% md\n"
    }
   }
  },
  {
   "cell_type": "code",
   "execution_count": 5,
   "source": [
    "randomForestRegresor = RandomForestRegressor()\r\n",
    "xgboostRegressor = XGBRegressor()"
   ],
   "outputs": [],
   "metadata": {
    "collapsed": false,
    "jupyter": {
     "outputs_hidden": false
    },
    "pycharm": {
     "name": "#%%\n"
    }
   }
  },
  {
   "cell_type": "markdown",
   "source": [
    "## Creación  de los pipeline"
   ],
   "metadata": {
    "pycharm": {
     "name": "#%% md\n"
    }
   }
  },
  {
   "cell_type": "code",
   "execution_count": 6,
   "source": [
    "# Pipeline\r\n",
    "RandomForestRegressor_pipeline = Pipeline([\r\n",
    "                     ('Encoder1', distanceEncoder[0]),\r\n",
    "                     ('Encoder2', distanceEncoder[1]),\r\n",
    "                     ('Encoder3', distanceEncoder[2]),\r\n",
    "                     ('Encoder4', sizeMeanEncoders[0]),\r\n",
    "                     ('Encoder5', sizeMeanEncoders[1]),\r\n",
    "                     ('Encoder6', rangeEncoders[0]),\r\n",
    "                     ('Encoder7', rangeEncoders[1]),\r\n",
    "                     ('Imputer1', imputer),\r\n",
    "                     ('Encoder8', oneHotColumnTransformer),\r\n",
    "                     ('Model', randomForestRegresor)])\r\n",
    "\r\n",
    "xgboostRegressor_pipeline = Pipeline([\r\n",
    "                     ('Encoder1', distanceEncoder[0]),\r\n",
    "                     ('Encoder2', distanceEncoder[1]),\r\n",
    "                     ('Encoder3', distanceEncoder[2]),\r\n",
    "                     ('Encoder4', sizeMeanEncoders[0]),\r\n",
    "                     ('Encoder5', sizeMeanEncoders[1]),\r\n",
    "                     ('Encoder6', rangeEncoders[0]),\r\n",
    "                     ('Encoder7', rangeEncoders[1]),\r\n",
    "                     ('Imputer1', imputer),\r\n",
    "                     ('Encoder8', oneHotColumnTransformer),\r\n",
    "                     ('Model', randomForestRegresor)])"
   ],
   "outputs": [
    {
     "output_type": "execute_result",
     "data": {
      "text/plain": [
       "\"xgboostRegressor_pipeline = Pipeline([\\n                     ('Encoder1', distanceEncoder[0]),\\n                     ('Encoder2', distanceEncoder[1]),\\n                     ('Encoder3', distanceEncoder[2]),\\n                     ('Encoder4', sizeMeanEncoders[0]),\\n                     ('Encoder5', sizeMeanEncoders[1]),\\n                     ('Encoder6', rangeEncoders[0]),\\n                     ('Encoder7', rangeEncoders[1]),\\n                     ('Imputer1', imputer),\\n                     ('Encoder8', oneHotColumnTransformer),\\n                     ('Model', randomForestRegresor)])\""
      ]
     },
     "metadata": {},
     "execution_count": 6
    }
   ],
   "metadata": {
    "collapsed": false,
    "jupyter": {
     "outputs_hidden": false
    },
    "pycharm": {
     "name": "#%%\n"
    }
   }
  },
  {
   "cell_type": "markdown",
   "source": [
    "## Creación de los grid para el gridSearch\n",
    "\n",
    "Es necesario defenir de la siguiente manera los grid para crear una serie semi aleatoria de los mismos:"
   ],
   "metadata": {
    "pycharm": {
     "name": "#%% md\n"
    }
   }
  },
  {
   "cell_type": "code",
   "execution_count": 7,
   "source": [
    "# RandomForestRegressor\r\n",
    "randomForestRegressor_n_estimators =  [int(x) for x in np.linspace(start = 200, stop = 4000, num = 10)]\r\n",
    "randomForestRegressor_max_features = ['auto', 'sqrt','log2']\r\n",
    "randomForestRegressor_max_depth =  [int(x) for x in np.linspace(5, 110, num = 11)]\r\n",
    "randomForestRegressor_max_depth.append(None)\r\n",
    "randomForestRegressor_max_depth = [None]\r\n",
    "randomForestRegressor_min_samples_split =[2, 5, 10]\r\n",
    "randomForestRegressor_min_samples_leaf = [1, 2, 4]\r\n",
    "randomForestRegressor_bootstrap = [True]\r\n",
    "\r\n",
    "RandomForestRegressor_grid = {'Model__n_estimators': randomForestRegressor_n_estimators,\r\n",
    "                                  'Model__max_features': randomForestRegressor_max_features,\r\n",
    "                                  'Model__max_depth': randomForestRegressor_max_depth,\r\n",
    "                                  'Model__min_samples_split': randomForestRegressor_min_samples_split,\r\n",
    "                                  'Model__min_samples_leaf': randomForestRegressor_min_samples_leaf,\r\n",
    "                                  'Model__bootstrap': randomForestRegressor_bootstrap}\r\n",
    "\r\n",
    "# XGBoostRegressor\r\n",
    "xgboostRegressor_n_estimators = [int(x) for x in np.linspace(start = 200, stop = 4000, num = 10)]\r\n",
    "xgboostRegressor_subsample = [int(x) for x in np.linspace(start = 0.4, stop = 1, num = 10)]\r\n",
    "xgboostRegressor_max_depth = [int(x) for x in np.linspace(10, 120, num = 10)]\r\n",
    "xgboostRegressor_colsample_bytree = [int(x) for x in np.linspace(start = 0.4, stop = 1, num = 10)]\r\n",
    "xgboostRegressor_eta = [int(x) for x in np.linspace(start = 0.0001, stop = 0.5, num = 5)]\r\n",
    "\r\n",
    "xgboostRegressor_grid = {'Model__n_estimators': xgboostRegressor_n_estimators,\r\n",
    "               'Model__eta': xgboostRegressor_eta,\r\n",
    "               'Model__max_depth': xgboostRegressor_max_depth,\r\n",
    "               'Model__subsample': xgboostRegressor_subsample,\r\n",
    "               'Model__colsample_bytree': xgboostRegressor_colsample_bytree}"
   ],
   "outputs": [],
   "metadata": {
    "collapsed": false,
    "jupyter": {
     "outputs_hidden": false
    },
    "pycharm": {
     "name": "#%%\n"
    }
   }
  },
  {
   "cell_type": "code",
   "execution_count": 8,
   "source": [
    "models_dict = {\"RandomForestRegressor\":[RandomForestRegressor_pipeline, RandomForestRegressor_grid],\r\n",
    "               \"xgboostRegressor\":[xgboostRegressor_pipeline, xgboostRegressor_grid]}"
   ],
   "outputs": [],
   "metadata": {
    "collapsed": false,
    "jupyter": {
     "outputs_hidden": false
    },
    "pycharm": {
     "name": "#%%\n"
    }
   }
  },
  {
   "cell_type": "markdown",
   "source": [
    "## Llamada al creador de modelos"
   ],
   "metadata": {
    "pycharm": {
     "name": "#%% md\n"
    }
   }
  },
  {
   "cell_type": "code",
   "execution_count": 9,
   "source": [
    "bestModel(models_dict, X_train, y_train, X_test, y_test)"
   ],
   "outputs": [
    {
     "output_type": "display_data",
     "data": {
      "application/vnd.jupyter.widget-view+json": {
       "model_id": "31e262ea41f5452d8eccf4d8cc0bd4c2",
       "version_major": 2,
       "version_minor": 0
      },
      "text/plain": [
       "Probando algoritmos:   0%|          | 0/1 [00:00<?, ?it/s]"
      ]
     },
     "metadata": {}
    },
    {
     "output_type": "stream",
     "name": "stdout",
     "text": [
      "probando 1 combinaciones aleatorias de RandomForestRegressor\n",
      "Fitting 5 folds for each of 1 candidates, totalling 5 fits\n"
     ]
    },
    {
     "output_type": "stream",
     "name": "stderr",
     "text": [
      "C:\\Users\\arni_\\anaconda3\\lib\\site-packages\\sklearn\\model_selection\\_search.py:289: UserWarning: The total space of parameters 1 is smaller than n_iter=10. Running 1 iterations. For exhaustive searches, use GridSearchCV.\n",
      "  % (grid_size, self.n_iter, grid_size), UserWarning)\n"
     ]
    },
    {
     "output_type": "display_data",
     "data": {
      "application/vnd.jupyter.widget-view+json": {
       "model_id": "0fe37bf884ba4b54b50a416080b44180",
       "version_major": 2,
       "version_minor": 0
      },
      "text/plain": [
       "Centrando los mejores modelos aleatorios:   0%|          | 0/1 [00:00<?, ?it/s]"
      ]
     },
     "metadata": {}
    },
    {
     "output_type": "stream",
     "name": "stdout",
     "text": [
      "Fitting 5 folds for each of 27 candidates, totalling 135 fits\n",
      "Model Performance\n",
      "Accuracy = 83.52%.\n"
     ]
    },
    {
     "output_type": "execute_result",
     "data": {
      "text/plain": [
       "[Pipeline(steps=[('Encoder1',\n",
       "                  DistanceEncoder(new_columns='fe_distance_sol',\n",
       "                                  origin=[40.41465, -3.7004],\n",
       "                                  transformed_columns=['ide_latitude',\n",
       "                                                       'ide_longitude'])),\n",
       "                 ('Encoder2',\n",
       "                  DistanceEncoder(new_columns='fe_distance_nmi',\n",
       "                                  origin=[40.446278, -3.691814],\n",
       "                                  transformed_columns=['ide_latitude',\n",
       "                                                       'ide_longitude'])),\n",
       "                 ('Encoder3',\n",
       "                  DistanceEncoder(new_columns='fe_distance_...\n",
       "                               transformed_columns='ide_longitude')),\n",
       "                 ('Imputer1',\n",
       "                  CustomKNNImputer(n_neighbors=5, weights='distance')),\n",
       "                 ('Encoder8',\n",
       "                  ColumnTransformer(remainder='passthrough',\n",
       "                                    transformers=[('oneHotEncoder',\n",
       "                                                   OneHotEncoder(handle_unknown='ignore'),\n",
       "                                                   ['geo_distrito', 'geo_barrio',\n",
       "                                                    'fe_latitude_bins',\n",
       "                                                    'fe_longitude_bins'])])),\n",
       "                 ('Model', RandomForestRegressor(n_estimators=460))]),\n",
       " {'Model__max_depth': None,\n",
       "  'Model__max_features': 'auto',\n",
       "  'Model__min_samples_leaf': 1,\n",
       "  'Model__min_samples_split': 2,\n",
       "  'Model__n_estimators': 460},\n",
       " -0.16766755691978014]"
      ]
     },
     "metadata": {},
     "execution_count": 9
    }
   ],
   "metadata": {
    "collapsed": false,
    "jupyter": {
     "outputs_hidden": false
    },
    "pycharm": {
     "is_executing": true,
     "name": "#%%\n"
    }
   }
  }
 ],
 "metadata": {
  "kernelspec": {
   "display_name": "Python 3",
   "language": "python",
   "name": "python3"
  },
  "language_info": {
   "codemirror_mode": {
    "name": "ipython",
    "version": 3
   },
   "file_extension": ".py",
   "mimetype": "text/x-python",
   "name": "python",
   "nbconvert_exporter": "python",
   "pygments_lexer": "ipython3",
   "version": "3.7.10"
  }
 },
 "nbformat": 4,
 "nbformat_minor": 4
}