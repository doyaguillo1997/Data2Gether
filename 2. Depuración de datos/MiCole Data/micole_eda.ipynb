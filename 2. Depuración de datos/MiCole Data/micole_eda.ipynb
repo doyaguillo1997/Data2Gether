{
 "cells": [
  {
   "cell_type": "markdown",
   "source": [
    "# Carga datos places desde el bucket de AWS"
   ],
   "metadata": {
    "id": "1z8tf7PDKxTC"
   }
  },
  {
   "cell_type": "code",
   "execution_count": 1,
   "source": [
    "\"\"\"   Librerías   \"\"\"\r\n",
    "import pandas as pd # Manipulación y EDA\r\n",
    "import matplotlib.pyplot as plt # Gráficos\r\n",
    "import seaborn as sns # Gráficos\r\n",
    "from dataAccess import aws_df_from_S3_csv # AWS"
   ],
   "outputs": [],
   "metadata": {
    "id": "fi7Rwqr9q5ao"
   }
  },
  {
   "cell_type": "code",
   "execution_count": 192,
   "source": [
    "dataset = aws_df_from_S3_csv(\"Biel/colegios_madrid.csv\")\r\n",
    "dataset = dataset.drop(['Unnamed: 0'], axis = 1)\r\n",
    "dataset.head(10)"
   ],
   "outputs": [
    {
     "output_type": "execute_result",
     "data": {
      "text/html": [
       "<div>\n",
       "<style scoped>\n",
       "    .dataframe tbody tr th:only-of-type {\n",
       "        vertical-align: middle;\n",
       "    }\n",
       "\n",
       "    .dataframe tbody tr th {\n",
       "        vertical-align: top;\n",
       "    }\n",
       "\n",
       "    .dataframe thead th {\n",
       "        text-align: right;\n",
       "    }\n",
       "</style>\n",
       "<table border=\"1\" class=\"dataframe\">\n",
       "  <thead>\n",
       "    <tr style=\"text-align: right;\">\n",
       "      <th></th>\n",
       "      <th>name</th>\n",
       "      <th>address</th>\n",
       "      <th>price</th>\n",
       "      <th>review</th>\n",
       "      <th>description</th>\n",
       "      <th>type</th>\n",
       "    </tr>\n",
       "  </thead>\n",
       "  <tbody>\n",
       "    <tr>\n",
       "      <th>0</th>\n",
       "      <td>Virgen Del Cerro</td>\n",
       "      <td>Calle Mohernando 1, 28038, Madrid, Madrid</td>\n",
       "      <td>Menos de 100€/mes</td>\n",
       "      <td>4.3 estrellas</td>\n",
       "      <td>Colegio Público de Educación Infantil y Primaria</td>\n",
       "      <td>Publico</td>\n",
       "    </tr>\n",
       "    <tr>\n",
       "      <th>1</th>\n",
       "      <td>Miguel De Cervantes</td>\n",
       "      <td>Avenida Villaviciosa s/n, 28922, Alcorcón, Madrid</td>\n",
       "      <td>NaN</td>\n",
       "      <td>4.3 estrellas</td>\n",
       "      <td>Colegio Público de Educación Infantil, Primari...</td>\n",
       "      <td>Publico</td>\n",
       "    </tr>\n",
       "    <tr>\n",
       "      <th>2</th>\n",
       "      <td>República Del Paraguay</td>\n",
       "      <td>Calle Manresa 60, 28034, Madrid, Madrid</td>\n",
       "      <td>Menos de 100€/mes</td>\n",
       "      <td>4.7 estrellas</td>\n",
       "      <td>Colegio Público de Educación Infantil y Primaria</td>\n",
       "      <td>Publico</td>\n",
       "    </tr>\n",
       "    <tr>\n",
       "      <th>3</th>\n",
       "      <td>San José De Valderas</td>\n",
       "      <td>Avenida de los Derechos Humanos 6, 28924, Alco...</td>\n",
       "      <td>Menos de 100€/mes</td>\n",
       "      <td>4.1 estrellas</td>\n",
       "      <td>Colegio Público de Educación Infantil y Primaria</td>\n",
       "      <td>Publico</td>\n",
       "    </tr>\n",
       "    <tr>\n",
       "      <th>4</th>\n",
       "      <td>Filosofo Séneca</td>\n",
       "      <td>Calle Santa Adela 21, 28033, Madrid, Madrid</td>\n",
       "      <td>Menos de 100€/mes</td>\n",
       "      <td>4.1 estrellas</td>\n",
       "      <td>Colegio Público de Educación Infantil y Primaria</td>\n",
       "      <td>Publico</td>\n",
       "    </tr>\n",
       "    <tr>\n",
       "      <th>5</th>\n",
       "      <td>Beatriz Galindo</td>\n",
       "      <td>Calle de Goya 10, 28001, Madrid, Madrid</td>\n",
       "      <td>Menos de 100€/mes</td>\n",
       "      <td>3.5 estrellas</td>\n",
       "      <td>Instituto Público de Educación Secundaria, Bac...</td>\n",
       "      <td>Publico</td>\n",
       "    </tr>\n",
       "    <tr>\n",
       "      <th>6</th>\n",
       "      <td>Escuelas De San Antón</td>\n",
       "      <td>Calle de la Farmacia 13, 28004, Madrid, Madrid</td>\n",
       "      <td>Menos de 100€/mes</td>\n",
       "      <td>3.5 estrellas</td>\n",
       "      <td>Centro Público de Educación Infantil</td>\n",
       "      <td>Publico</td>\n",
       "    </tr>\n",
       "    <tr>\n",
       "      <th>7</th>\n",
       "      <td>San Mateo</td>\n",
       "      <td>Calle de la Beneficencia 4, 28004, Madrid, Madrid</td>\n",
       "      <td>Menos de 100€/mes</td>\n",
       "      <td>4.5 estrellas</td>\n",
       "      <td>Instituto Público de Educación Secundaria y Ba...</td>\n",
       "      <td>Publico</td>\n",
       "    </tr>\n",
       "    <tr>\n",
       "      <th>8</th>\n",
       "      <td>Palacio Valdes</td>\n",
       "      <td>Paseo del Prado 38, 28014, Madrid, Madrid</td>\n",
       "      <td>Menos de 100€/mes</td>\n",
       "      <td>4.5 estrellas</td>\n",
       "      <td>Colegio Público de Educación Infantil y Primaria</td>\n",
       "      <td>Publico</td>\n",
       "    </tr>\n",
       "    <tr>\n",
       "      <th>9</th>\n",
       "      <td>Isabel La Católica</td>\n",
       "      <td>Calle de Barceló 2, 28004, Madrid, Madrid</td>\n",
       "      <td>Menos de 100€/mes</td>\n",
       "      <td>3 estrellas</td>\n",
       "      <td>Colegio Público de Educación Infantil y Primaria</td>\n",
       "      <td>Publico</td>\n",
       "    </tr>\n",
       "  </tbody>\n",
       "</table>\n",
       "</div>"
      ],
      "text/plain": [
       "                     name                                            address  \\\n",
       "0        Virgen Del Cerro          Calle Mohernando 1, 28038, Madrid, Madrid   \n",
       "1     Miguel De Cervantes  Avenida Villaviciosa s/n, 28922, Alcorcón, Madrid   \n",
       "2  República Del Paraguay            Calle Manresa 60, 28034, Madrid, Madrid   \n",
       "3    San José De Valderas  Avenida de los Derechos Humanos 6, 28924, Alco...   \n",
       "4         Filosofo Séneca        Calle Santa Adela 21, 28033, Madrid, Madrid   \n",
       "5         Beatriz Galindo            Calle de Goya 10, 28001, Madrid, Madrid   \n",
       "6   Escuelas De San Antón     Calle de la Farmacia 13, 28004, Madrid, Madrid   \n",
       "7               San Mateo  Calle de la Beneficencia 4, 28004, Madrid, Madrid   \n",
       "8          Palacio Valdes          Paseo del Prado 38, 28014, Madrid, Madrid   \n",
       "9      Isabel La Católica          Calle de Barceló 2, 28004, Madrid, Madrid   \n",
       "\n",
       "               price         review  \\\n",
       "0  Menos de 100€/mes  4.3 estrellas   \n",
       "1                NaN  4.3 estrellas   \n",
       "2  Menos de 100€/mes  4.7 estrellas   \n",
       "3  Menos de 100€/mes  4.1 estrellas   \n",
       "4  Menos de 100€/mes  4.1 estrellas   \n",
       "5  Menos de 100€/mes  3.5 estrellas   \n",
       "6  Menos de 100€/mes  3.5 estrellas   \n",
       "7  Menos de 100€/mes  4.5 estrellas   \n",
       "8  Menos de 100€/mes  4.5 estrellas   \n",
       "9  Menos de 100€/mes    3 estrellas   \n",
       "\n",
       "                                         description     type  \n",
       "0   Colegio Público de Educación Infantil y Primaria  Publico  \n",
       "1  Colegio Público de Educación Infantil, Primari...  Publico  \n",
       "2   Colegio Público de Educación Infantil y Primaria  Publico  \n",
       "3   Colegio Público de Educación Infantil y Primaria  Publico  \n",
       "4   Colegio Público de Educación Infantil y Primaria  Publico  \n",
       "5  Instituto Público de Educación Secundaria, Bac...  Publico  \n",
       "6               Centro Público de Educación Infantil  Publico  \n",
       "7  Instituto Público de Educación Secundaria y Ba...  Publico  \n",
       "8   Colegio Público de Educación Infantil y Primaria  Publico  \n",
       "9   Colegio Público de Educación Infantil y Primaria  Publico  "
      ]
     },
     "metadata": {},
     "execution_count": 192
    }
   ],
   "metadata": {}
  },
  {
   "cell_type": "code",
   "execution_count": 193,
   "source": [
    "# Número de registros que contiene el dataset\r\n",
    "print(\"El dataset contiene un total de {} establecimientos.\\n\".format(len(dataset)))"
   ],
   "outputs": [
    {
     "output_type": "stream",
     "name": "stdout",
     "text": [
      "El dataset contiene un total de 1786 establecimientos.\n",
      "\n"
     ]
    }
   ],
   "metadata": {}
  },
  {
   "cell_type": "markdown",
   "source": [
    "# EDA"
   ],
   "metadata": {}
  },
  {
   "cell_type": "code",
   "execution_count": 17,
   "source": [
    "plt.figure(figsize=(15,5))\r\n",
    "print(dataset[\"price\"].value_counts())\r\n",
    "sns.countplot(x = \"price\", data = df_clean)\r\n",
    "plt.show()"
   ],
   "outputs": [
    {
     "output_type": "stream",
     "name": "stdout",
     "text": [
      "Menos de 100€/mes        726\n",
      "Entre 300€ y 700€/mes    651\n",
      "Entre 100€ y 300€/mes    388\n",
      "Más de 700€/mes           19\n",
      "Name: price, dtype: int64\n"
     ]
    },
    {
     "output_type": "display_data",
     "data": {
      "image/png": "[encoded data removed]",
      "text/plain": [
       "<Figure size 1080x360 with 1 Axes>"
      ]
     },
     "metadata": {
      "needs_background": "light"
     }
    }
   ],
   "metadata": {}
  },
  {
   "cell_type": "code",
   "execution_count": 19,
   "source": [
    "plt.figure(figsize=(15,5))\r\n",
    "print(dataset[\"review\"].value_counts())\r\n",
    "sns.countplot(x = \"review\", data = df_clean)\r\n",
    "plt.show()"
   ],
   "outputs": [
    {
     "output_type": "stream",
     "name": "stdout",
     "text": [
      "5 estrellas      315\n",
      "4.3 estrellas    126\n",
      "4 estrellas      112\n",
      "4.2 estrellas     98\n",
      "4.1 estrellas     93\n",
      "4.5 estrellas     89\n",
      "4.4 estrellas     85\n",
      "4.8 estrellas     81\n",
      "4.7 estrellas     79\n",
      "4.6 estrellas     79\n",
      "3.9 estrellas     77\n",
      " estrellas        73\n",
      "4.9 estrellas     65\n",
      "3.8 estrellas     65\n",
      "3.7 estrellas     57\n",
      "3.6 estrellas     53\n",
      "0 estrellas       42\n",
      "3.5 estrellas     41\n",
      "3.4 estrellas     35\n",
      "3 estrellas       25\n",
      "3.3 estrellas     25\n",
      "3.2 estrellas     16\n",
      "3.1 estrellas     14\n",
      "2.8 estrellas     10\n",
      "2.7 estrellas      6\n",
      "2.3 estrellas      4\n",
      "2.9 estrellas      4\n",
      "1 estrellas        4\n",
      "2.5 estrellas      3\n",
      "2.6 estrellas      3\n",
      "2.4 estrellas      3\n",
      "1.7 estrellas      1\n",
      "2 estrellas        1\n",
      "1.8 estrellas      1\n",
      "2.2 estrellas      1\n",
      "Name: review, dtype: int64\n"
     ]
    },
    {
     "output_type": "display_data",
     "data": {
      "image/png": "[encoded data removed]",
      "text/plain": [
       "<Figure size 1080x360 with 1 Axes>"
      ]
     },
     "metadata": {
      "needs_background": "light"
     }
    }
   ],
   "metadata": {}
  },
  {
   "cell_type": "code",
   "execution_count": 20,
   "source": [
    "plt.figure(figsize=(15,5))\r\n",
    "print(dataset[\"description\"].value_counts())\r\n",
    "sns.countplot(x = \"description\", data = df_clean)\r\n",
    "plt.show()"
   ],
   "outputs": [
    {
     "output_type": "stream",
     "name": "stdout",
     "text": [
      "Centro Privado de Educación Infantil                                                 502\n",
      "Colegio Público de Educación Infantil y Primaria                                     382\n",
      "Centro Público de Educación Infantil                                                 190\n",
      "Colegio Concertado de Educación Infantil, Primaria, Secundaria y Bachillerato        133\n",
      "Instituto Público de Educación Secundaria y Bachillerato                              91\n",
      "Colegio Concertado de Educación Infantil, Primaria y Secundaria                       77\n",
      "Centro Concertado de Educación Infantil                                               71\n",
      "Colegio Privado de Educación Infantil, Primaria, Secundaria y Bachillerato            57\n",
      "Instituto Público de Educación Secundaria, Bachillerato y FP                          47\n",
      "Colegio Concertado de Educación Infantil, Primaria, Secundaria, Bachillerato y FP     46\n",
      "Colegio Concertado de Educación Infantil y Primaria                                   37\n",
      "Colegio Concertado de Educación Infantil, Primaria, Secundaria y FP                   15\n",
      "Centro Privado de Educación Infantil (3-6 años)                                       15\n",
      "Colegio Privado de Educación Infantil y Primaria                                      15\n",
      "Colegio Privado de Educación Infantil, Primaria, Secundaria, Bachillerato y FP        13\n",
      "Colegio Privado de Educación Infantil, Primaria y Secundaria                          12\n",
      "Colegio Privado de Educación Primaria, Secundaria y Bachillerato                      10\n",
      "Instituto Privado de Bachillerato                                                      8\n",
      "Instituto Privado de Educación Secundaria y Bachillerato                               7\n",
      "Instituto Privado de Educación Secundaria y FP                                         6\n",
      "Colegio Privado                                                                        6\n",
      "Instituto Privado de Educación Secundaria, Bachillerato y FP                           6\n",
      "Centro Privado de Educación Infantil (0-3 años)                                        5\n",
      "Instituto Público de Educación Secundaria                                              5\n",
      "Colegio Público de Educación Infantil, Primaria y Secundaria                           4\n",
      "Colegio Concertado de Educación Primaria y Secundaria                                  3\n",
      "Colegio Privado de Educación Primaria, Secundaria, Bachillerato y FP                   3\n",
      "Centro Concertado de Educación Infantil (3-6 años)                                     2\n",
      "Colegio Concertado de Educación Primaria, Secundaria y Bachillerato                    2\n",
      "Centro Público de Educación Infantil (0-3 años)                                        2\n",
      "Centro Público de Educación Infantil (3-6 años)                                        2\n",
      "Instituto Público de Educación Secundaria y FP                                         2\n",
      "Instituto Privado de Bachillerato y FP                                                 2\n",
      "Colegio Privado de Educación Primaria                                                  1\n",
      "Instituto Concertado de Educación Secundaria, Bachillerato y FP                        1\n",
      "Instituto Privado de FP                                                                1\n",
      "Colegio Concertado                                                                     1\n",
      "Colegio Público de Educación Infantil, Primaria, Secundaria y Bachillerato             1\n",
      "Colegio Privado de Educación Primaria y Secundaria                                     1\n",
      "Colegio Concertado de Educación Infantil, Primaria y FP                                1\n",
      "Colegio Público                                                                        1\n",
      "Name: description, dtype: int64\n"
     ]
    },
    {
     "output_type": "display_data",
     "data": {
      "image/png": "[encoded data removed]",
      "text/plain": [
       "<Figure size 1080x360 with 1 Axes>"
      ]
     },
     "metadata": {
      "needs_background": "light"
     }
    }
   ],
   "metadata": {}
  },
  {
   "cell_type": "code",
   "execution_count": 21,
   "source": [
    "plt.figure(figsize=(15,5))\n",
    "print(dataset[\"type\"].value_counts())\n",
    "sns.countplot(x = \"type\", data = df_clean)\n",
    "plt.show()"
   ],
   "outputs": [
    {
     "output_type": "stream",
     "name": "stdout",
     "text": [
      "Publico       727\n",
      "Privado       669\n",
      "Concertado    390\n",
      "Name: type, dtype: int64\n"
     ]
    },
    {
     "output_type": "display_data",
     "data": {
      "image/png": "[encoded data removed]",
      "text/plain": [
       "<Figure size 1080x360 with 1 Axes>"
      ]
     },
     "metadata": {
      "needs_background": "light"
     }
    }
   ],
   "metadata": {}
  }
 ],
 "metadata": {
  "colab": {
   "collapsed_sections": [],
   "name": "dividir csv viviendas.ipynb",
   "provenance": []
  },
  "kernelspec": {
   "display_name": "Python 3",
   "language": "python",
   "name": "python3"
  },
  "language_info": {
   "codemirror_mode": {
    "name": "ipython",
    "version": 3
   },
   "file_extension": ".py",
   "mimetype": "text/x-python",
   "name": "python",
   "nbconvert_exporter": "python",
   "pygments_lexer": "ipython3",
   "version": "3.7.10"
  }
 },
 "nbformat": 4,
 "nbformat_minor": 4
}